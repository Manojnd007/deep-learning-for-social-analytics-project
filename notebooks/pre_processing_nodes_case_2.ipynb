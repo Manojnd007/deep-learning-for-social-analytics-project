{
 "cells": [
  {
   "cell_type": "code",
   "execution_count": 1,
   "id": "8f5cf248-654b-425c-b476-dd396038c52f",
   "metadata": {},
   "outputs": [],
   "source": [
    "import os \n",
    "import json\n",
    "import pandas as pd\n",
    "import seaborn as sns\n",
    "import matplotlib.pyplot as plt\n",
    "from pandasql import sqldf\n",
    "import numpy as np\n",
    "import nltk\n",
    "import re\n",
    "from wordcloud import WordCloud"
   ]
  },
  {
   "cell_type": "code",
   "execution_count": 2,
   "id": "e93e60ad-d96a-4930-b322-ea1d91d1bcbe",
   "metadata": {},
   "outputs": [],
   "source": [
    "nodes = pd.read_csv('/home/manoj/tuhh/data_science_3rd_sem/deep_learning_for_social_analytics/project/deep-learning-for-social-analytics-project/cleaned_datasets/archieve_but_important/nodes.csv')\n"
   ]
  },
  {
   "cell_type": "code",
   "execution_count": 3,
   "id": "70ae915d-8115-4ddb-a63d-5688c781c60a",
   "metadata": {},
   "outputs": [
    {
     "data": {
      "text/plain": [
       "spotify_id     object\n",
       "name           object\n",
       "followers     float64\n",
       "popularity      int64\n",
       "genres         object\n",
       "chart_hits     object\n",
       "dtype: object"
      ]
     },
     "execution_count": 3,
     "metadata": {},
     "output_type": "execute_result"
    }
   ],
   "source": [
    "nodes.dtypes\n"
   ]
  },
  {
   "cell_type": "code",
   "execution_count": 4,
   "id": "20d11287-e886-44e4-82ac-4520daf54abf",
   "metadata": {},
   "outputs": [
    {
     "data": {
      "text/html": [
       "<div>\n",
       "<style scoped>\n",
       "    .dataframe tbody tr th:only-of-type {\n",
       "        vertical-align: middle;\n",
       "    }\n",
       "\n",
       "    .dataframe tbody tr th {\n",
       "        vertical-align: top;\n",
       "    }\n",
       "\n",
       "    .dataframe thead th {\n",
       "        text-align: right;\n",
       "    }\n",
       "</style>\n",
       "<table border=\"1\" class=\"dataframe\">\n",
       "  <thead>\n",
       "    <tr style=\"text-align: right;\">\n",
       "      <th></th>\n",
       "      <th>followers</th>\n",
       "      <th>popularity</th>\n",
       "    </tr>\n",
       "  </thead>\n",
       "  <tbody>\n",
       "    <tr>\n",
       "      <th>count</th>\n",
       "      <td>1.564180e+05</td>\n",
       "      <td>156422.000000</td>\n",
       "    </tr>\n",
       "    <tr>\n",
       "      <th>mean</th>\n",
       "      <td>8.622371e+04</td>\n",
       "      <td>21.157497</td>\n",
       "    </tr>\n",
       "    <tr>\n",
       "      <th>std</th>\n",
       "      <td>9.401001e+05</td>\n",
       "      <td>18.338290</td>\n",
       "    </tr>\n",
       "    <tr>\n",
       "      <th>min</th>\n",
       "      <td>0.000000e+00</td>\n",
       "      <td>0.000000</td>\n",
       "    </tr>\n",
       "    <tr>\n",
       "      <th>25%</th>\n",
       "      <td>2.400000e+01</td>\n",
       "      <td>4.000000</td>\n",
       "    </tr>\n",
       "    <tr>\n",
       "      <th>50%</th>\n",
       "      <td>3.630000e+02</td>\n",
       "      <td>18.000000</td>\n",
       "    </tr>\n",
       "    <tr>\n",
       "      <th>75%</th>\n",
       "      <td>6.258000e+03</td>\n",
       "      <td>34.000000</td>\n",
       "    </tr>\n",
       "    <tr>\n",
       "      <th>max</th>\n",
       "      <td>1.021569e+08</td>\n",
       "      <td>100.000000</td>\n",
       "    </tr>\n",
       "  </tbody>\n",
       "</table>\n",
       "</div>"
      ],
      "text/plain": [
       "          followers     popularity\n",
       "count  1.564180e+05  156422.000000\n",
       "mean   8.622371e+04      21.157497\n",
       "std    9.401001e+05      18.338290\n",
       "min    0.000000e+00       0.000000\n",
       "25%    2.400000e+01       4.000000\n",
       "50%    3.630000e+02      18.000000\n",
       "75%    6.258000e+03      34.000000\n",
       "max    1.021569e+08     100.000000"
      ]
     },
     "execution_count": 4,
     "metadata": {},
     "output_type": "execute_result"
    }
   ],
   "source": [
    "nodes.describe()"
   ]
  },
  {
   "cell_type": "code",
   "execution_count": 5,
   "id": "7db63491-2ef1-4dd0-b193-202104cd0fd1",
   "metadata": {},
   "outputs": [
    {
     "data": {
      "text/plain": [
       "spotify_id         0\n",
       "name               4\n",
       "followers          4\n",
       "popularity         0\n",
       "genres             0\n",
       "chart_hits    136781\n",
       "dtype: int64"
      ]
     },
     "execution_count": 5,
     "metadata": {},
     "output_type": "execute_result"
    }
   ],
   "source": [
    "nodes.isnull().sum()"
   ]
  },
  {
   "cell_type": "code",
   "execution_count": 6,
   "id": "76bf0eb1-e50c-46a6-8da1-841600381851",
   "metadata": {},
   "outputs": [],
   "source": [
    "nodes.dropna(subset=['name'], inplace=True)\n",
    "#delete null names as they are not required.\n"
   ]
  },
  {
   "cell_type": "code",
   "execution_count": 7,
   "id": "e6a311e5-5944-4f45-b859-1a172bf38ffa",
   "metadata": {},
   "outputs": [],
   "source": [
    "nodes.dropna(subset=['followers'], inplace=True)\n",
    "#delete null followers"
   ]
  },
  {
   "cell_type": "code",
   "execution_count": null,
   "id": "b5001dd6-3f1e-44d0-ab97-98f33c3b0f62",
   "metadata": {},
   "outputs": [],
   "source": [
    "\n",
    "from concurrent.futures import ProcessPoolExecutor\n",
    "from langdetect import detect, DetectorFactory\n",
    "\n",
    "# Ensure consistent results from langdetect\n",
    "DetectorFactory.seed = 0\n",
    "\n",
    "def is_english(text):\n",
    "    try:\n",
    "        # Fast ASCII check to quickly determine if a text is likely English\n",
    "        if all(ord(char) < 128 for char in text):\n",
    "            return True\n",
    "        return detect(text) == 'en'\n",
    "    except:\n",
    "        return False\n",
    "\n",
    "def filter_english_on_name(df):\n",
    "    with ProcessPoolExecutor() as executor:\n",
    "        # Mapping the language detection function to the 'name' column only as spotify_id has some ids\n",
    "        name_english = list(executor.map(is_english, df['name']))\n",
    "    # return the english name    \n",
    "    return df[name_english]\n",
    "\n",
    "nodes_english = filter_english_on_name(nodes)\n",
    "\n",
    "# Print the filtered DataFrame\n",
    "print(nodes_english)"
   ]
  },
  {
   "cell_type": "code",
   "execution_count": null,
   "id": "78184cc4-89f8-403f-89e0-246a94dc70d0",
   "metadata": {},
   "outputs": [],
   "source": [
    "nodes_english.shape"
   ]
  },
  {
   "cell_type": "code",
   "execution_count": null,
   "id": "908edd9b-c60d-478b-b753-d79bd974b8c5",
   "metadata": {},
   "outputs": [],
   "source": [
    "# As per the discussion in the interium presentation we are dropping the chart_hits attributes.\n",
    "nodes_english = nodes_english.drop(columns=['chart_hits'])"
   ]
  },
  {
   "cell_type": "code",
   "execution_count": null,
   "id": "32fbadf0-c8f3-4bcc-9b52-515367b08a16",
   "metadata": {},
   "outputs": [],
   "source": [
    "nodes_english.shape"
   ]
  },
  {
   "cell_type": "code",
   "execution_count": null,
   "id": "ee5387db-897d-42ce-96f7-ee990918191f",
   "metadata": {},
   "outputs": [],
   "source": [
    "\n",
    "# This is to know the unique genres.\n",
    "import pandas as pd\n",
    "import ast\n",
    "\n",
    "\n",
    "# Convert genre strings to lists\n",
    "nodes_english['genre_list'] = nodes_english['genres'].apply(lambda x: ast.literal_eval(x) if pd.notna(x) else [])\n",
    "\n",
    "# Collect all unique genres\n",
    "unique_genres = set(genre for sublist in nodes_english['genre_list'] for genre in sublist)\n",
    "\n",
    "# Print the unique genres\n",
    "print(\"Unique genres:\")\n",
    "for genre in unique_genres:\n",
    "    print(genre)"
   ]
  },
  {
   "cell_type": "code",
   "execution_count": null,
   "id": "ac8eb7f5-1536-4022-8303-a693f117995d",
   "metadata": {},
   "outputs": [],
   "source": [
    "import pandas as pd\n",
    "import ast\n",
    "import re\n",
    "\n",
    "\n",
    "# Convert genre strings to lists\n",
    "nodes_english['genre_list'] = nodes_english['genres'].apply(lambda x: ast.literal_eval(x) if pd.notna(x) else [])\n",
    "\n",
    "# Collect all unique genres\n",
    "unique_genres = set(genre for sublist in nodes_english['genre_list'] for genre in sublist)\n",
    "\n",
    "# Define the mapping from sub-genres to prominent genres\n",
    "top_genres = {\n",
    "    'pop': ['pop', 'j-pop', 'k-pop', 'synthpop', 'electropop', 'teen pop'],\n",
    "    'rock': ['rock', 'punk', 'garage'],\n",
    "    'hip_hop': ['hip hop', 'rap', 'drill'],\n",
    "    'electronic': ['edm', 'house', 'techno', 'electronic', 'trance', 'dance'],\n",
    "    'jazz': ['jazz'],\n",
    "    'folk world': ['folk', 'celtic', 'world', 'americana', 'country'],\n",
    "    'randb_soul': ['soul', 'r&b', 'rhythm and blues', 'funk', 'blues'],\n",
    "    'metal': ['metal'],\n",
    "    'classical_orchestral': ['classical', 'orchestral', 'symphony'],\n",
    "    'reggae_dancehall': ['reggae', 'dub', 'riddim', 'ska'],\n",
    "    'latin': ['salsa', 'latin', 'bachata', 'cumbia'],\n",
    "    'alternative indie': ['indie', 'alternative', 'emo'],\n",
    "    'blues': ['blues'],\n",
    "    'punk': ['punk'],\n",
    "    'soundtrack': ['soundtrack', 'anime', 'broadway', 'movie']\n",
    "}\n",
    "\n",
    "# Function to assign each unique genre to a top genre\n",
    "def assign_genre(unique_genre):\n",
    "    # Clean up the genre string for matching\n",
    "    genre_clean = unique_genre.lower().strip()\n",
    "    \n",
    "    # Check against each top genre's sub-genres\n",
    "    for top_genre, subgenres in top_genres.items():\n",
    "        for subgenre in subgenres:\n",
    "            # Use regex to check for word boundaries to avoid partial matches\n",
    "            if re.search(rf'\\b{subgenre}\\b', genre_clean):\n",
    "                return top_genre\n",
    "    return 'unknown'\n",
    "\n",
    "# Map each unique genre to a top genre\n",
    "genre_mapping = {genre: assign_genre(genre) for genre in unique_genres}\n",
    "\n",
    "# Apply this mapping to a column in your DataFrame\n",
    "nodes_english['prominent_genres'] = nodes_english['genre_list'].apply(\n",
    "    lambda genres: [genre_mapping.get(genre, 'Other') for genre in genres]\n",
    ")\n",
    "\n",
    "# You can now view the resultant DataFrame to check the mappings\n",
    "print(nodes_english[['genres', 'prominent_genres']])"
   ]
  },
  {
   "cell_type": "code",
   "execution_count": null,
   "id": "a6742819-a05b-46cf-96a7-69596398417c",
   "metadata": {},
   "outputs": [],
   "source": [
    "\n",
    "unique_prominent_genres = set(gen for sublist in nodes_english['prominent_genres'] for gen in sublist)\n",
    "\n",
    "# Count the number of unique prominent genres\n",
    "unique_count = len(unique_prominent_genres)\n",
    "\n",
    "# Print the count and the unique prominent genres\n",
    "print(f\"Number of unique prominent genres: {unique_count}\")\n",
    "print(\"Unique prominent genres:\", unique_prominent_genres)"
   ]
  },
  {
   "cell_type": "code",
   "execution_count": null,
   "id": "de0d8a73-5743-49f4-92a9-9bd18fd0d4ba",
   "metadata": {},
   "outputs": [],
   "source": [
    "# Step 1: Explode the genre lists into separate rows\n",
    "df_exploded = nodes_english.explode('prominent_genres')\n",
    "\n",
    "# Step 2: Ensuring deduplication across these exploded items per original entry\n",
    "df_exploded = df_exploded.groupby(df_exploded.index).apply(lambda x: x.drop_duplicates(subset=['prominent_genres'])).reset_index(level=0, drop=True)\n",
    "\n",
    "# Step 3: Perform one-hot encoding\n",
    "one_hot_encoded = pd.get_dummies(df_exploded['prominent_genres'])\n",
    "\n",
    "# Step 4: Sum up genre indicators for each original record by grouping back using the initial index\n",
    "final_one_hot_encoded = one_hot_encoded.groupby(one_hot_encoded.index).sum()\n",
    "\n",
    "# Combine back to original DataFrame as needed\n",
    "df_final = pd.concat([nodes_english.drop(columns=['prominent_genres']), final_one_hot_encoded], axis=1)\n",
    "\n",
    "# Display the one-hot encoded result\n",
    "print(df_final)"
   ]
  },
  {
   "cell_type": "code",
   "execution_count": null,
   "id": "48f1c189-431b-4168-b602-6193d26d433d",
   "metadata": {},
   "outputs": [],
   "source": [
    "df_final = df_final.drop(columns=['genres','genre_list'])\n"
   ]
  },
  {
   "cell_type": "code",
   "execution_count": null,
   "id": "b6a2c997-b264-48b2-95e5-abb3cfe1f1f4",
   "metadata": {},
   "outputs": [],
   "source": [
    "df_final.to_csv('artist_without_country_wise_rank.csv', index=False)"
   ]
  },
  {
   "cell_type": "code",
   "execution_count": null,
   "id": "03a1b6e2-e49b-43e6-bfad-714f8b6ef0a4",
   "metadata": {},
   "outputs": [],
   "source": [
    "df = pd.read_csv('artist_without_country_wise_rank.csv')"
   ]
  },
  {
   "cell_type": "code",
   "execution_count": null,
   "id": "d1fabe08-b5a4-4515-8770-ccbc4fd6dbe1",
   "metadata": {},
   "outputs": [],
   "source": [
    "df.shape"
   ]
  },
  {
   "cell_type": "code",
   "execution_count": null,
   "id": "6e8ab217-a29d-4e5b-b2df-37942401235b",
   "metadata": {},
   "outputs": [],
   "source": [
    "df.describe()"
   ]
  },
  {
   "cell_type": "code",
   "execution_count": null,
   "id": "52c80733-4fcd-4dcf-a5e8-ec18d8025cff",
   "metadata": {},
   "outputs": [],
   "source": [
    "df.isnull().sum()"
   ]
  },
  {
   "cell_type": "code",
   "execution_count": null,
   "id": "0ff381db-2b22-47f9-9fe7-a7b315ac5c73",
   "metadata": {},
   "outputs": [],
   "source": [
    "df.head(5)"
   ]
  },
  {
   "cell_type": "code",
   "execution_count": null,
   "id": "9bb5a60a-1d3c-40f3-bdde-7570b995f1c0",
   "metadata": {},
   "outputs": [],
   "source": [
    "df.describe()"
   ]
  },
  {
   "cell_type": "code",
   "execution_count": null,
   "id": "c72267d4-b45f-46f1-a682-69643c57ad55",
   "metadata": {},
   "outputs": [],
   "source": [
    "correlation_matrix = df.corr()\n",
    "\n",
    "plt.figure(figsize=(12, 10))\n",
    "sns.heatmap(correlation_matrix, annot=True, fmt=\".2f\", cmap='coolwarm')\n",
    "plt.title('Correlation Matrix of Artist Features')\n",
    "plt.show()"
   ]
  },
  {
   "cell_type": "code",
   "execution_count": null,
   "id": "fe70ce11-a77c-4044-8c1b-19889907771c",
   "metadata": {},
   "outputs": [],
   "source": [
    "genres_columns= ['alternative Indie', 'classical_orchestral',\n",
    "                      'electronic', 'folk world', 'hazz', 'hip_hop', 'latin', 'metal', \n",
    "                      'pop', 'randb_Soul', 'reggae_dancehall', 'rock', 'soundtrack', 'unknown']\n",
    "correlation_matrix = df[genres_columns].corr()\n",
    "\n",
    "plt.figure(figsize=(12, 10))\n",
    "sns.heatmap(correlation_matrix, annot=True, fmt=\".2f\", cmap='coolwarm')\n",
    "plt.title('Correlation Matrix of Artist Features with only genres')\n",
    "plt.show()"
   ]
  },
  {
   "cell_type": "code",
   "execution_count": null,
   "id": "66f3eb34-6403-444a-a269-a0ef9fc0434e",
   "metadata": {},
   "outputs": [],
   "source": [
    "#columns after 'followers' and 'popularity'\n",
    "genre_columns = columns_to_include[2:] \n",
    "\n",
    "# Sum of occurrences for each genre\n",
    "genre_counts = df[genre_columns].sum().sort_values(ascending=False)\n",
    "\n",
    "plt.figure(figsize=(10, 6))\n",
    "sns.barplot(x=genre_counts.index, y=genre_counts.values)\n",
    "plt.title('Number of Artists in Each Genre')\n",
    "plt.xticks(rotation=90)\n",
    "plt.show()"
   ]
  },
  {
   "cell_type": "code",
   "execution_count": null,
   "id": "ca0eb441-d287-4997-932b-23b493c2e28b",
   "metadata": {
    "scrolled": true
   },
   "outputs": [],
   "source": [
    "\n",
    "print(df[['followers', 'popularity']].head(5))"
   ]
  },
  {
   "cell_type": "code",
   "execution_count": null,
   "id": "c49c61c4-8a8b-4995-a9b0-1909ed28c5f5",
   "metadata": {},
   "outputs": [],
   "source": [
    "# plotting the distribution for the followers.\n",
    "import matplotlib.ticker as ticker \n",
    "\n",
    "\n",
    "plt.figure(figsize=(8, 6))\n",
    "sns.boxplot(x=df['followers'], color='lightblue')\n",
    "plt.title('Box Plot of Followers')\n",
    "plt.xlabel('Number of Followers')\n",
    "\n",
    "plt.gca().xaxis.set_major_formatter(ticker.FuncFormatter(lambda x, _: f'{int(x):,}'))\n",
    "\n",
    "plt.show()"
   ]
  },
  {
   "cell_type": "code",
   "execution_count": null,
   "id": "e56f761f-3995-4527-8cb9-b6c98fb79256",
   "metadata": {},
   "outputs": [],
   "source": [
    "\n",
    "import seaborn as sns\n",
    "\n",
    "plt.figure(figsize=(8, 6))\n",
    "sns.histplot(df['followers'], bins=50, kde=False, color='skyblue')\n",
    "plt.title('Histogram of Followers')\n",
    "plt.xlabel('Number of Followers')\n",
    "plt.ylabel('Frequency')\n",
    "\n",
    "plt.xscale('log')\n",
    "\n",
    "plt.show()"
   ]
  },
  {
   "cell_type": "code",
   "execution_count": null,
   "id": "ccf4581c-7041-4f63-b70c-ced52c622625",
   "metadata": {},
   "outputs": [],
   "source": [
    "artists_above_20m = df[df['followers'] > 20000000]\n",
    "\n",
    "# Count the number of such artists\n",
    "count_artists_above_20m = len(artists_above_20m)\n",
    "print(f\"Number of artists with more than 20 million followers: {count_artists_above_20m}\")"
   ]
  },
  {
   "cell_type": "code",
   "execution_count": null,
   "id": "bc9888e2-2349-4a98-99f5-036136614d78",
   "metadata": {},
   "outputs": [],
   "source": [
    "\n",
    "# Visualize the artists with more than 20 million followers\n",
    "plt.figure(figsize=(10, 6))\n",
    "sns.barplot(x=artists_above_20m['name'], y=artists_above_20m['followers'], palette='viridis')\n",
    "plt.title('Artists with More Than 20 Million Followers')\n",
    "plt.xlabel('Artist')\n",
    "plt.ylabel('Number of Followers')\n",
    "plt.xticks(rotation=45, ha='left')\n",
    "plt.show()"
   ]
  },
  {
   "cell_type": "code",
   "execution_count": null,
   "id": "66136d29-effd-4df6-94f6-95df6c2a7d62",
   "metadata": {},
   "outputs": [],
   "source": [
    "artists_above_100m = df[df['followers'] > 100000000]\n",
    "plt.figure(figsize=(10, 6))\n",
    "sns.barplot(x=artists_above_100m['name'], y=artists_above_100m['followers'], palette='viridis')\n",
    "plt.title('Artists with More Than 100 Million Followers')\n",
    "plt.xlabel('Artist')\n",
    "plt.ylabel('Number of Followers')\n",
    "plt.xticks(rotation=45, ha='right')\n",
    "plt.show()"
   ]
  },
  {
   "cell_type": "code",
   "execution_count": null,
   "id": "0495923e-0573-4930-9975-d8c1c93ed67d",
   "metadata": {},
   "outputs": [],
   "source": [
    "artists_above_60m = df[df['followers'] > 60000000]\n",
    "plt.figure(figsize=(10, 6))\n",
    "sns.barplot(x=artists_above_60m['name'], y=artists_above_60m['followers'], palette='viridis')\n",
    "plt.title('Artists with More Than 60 Million Followers')\n",
    "plt.xlabel('Artist')\n",
    "plt.ylabel('Number of Followers')\n",
    "plt.xticks(rotation=45, ha='right')\n",
    "plt.show()"
   ]
  },
  {
   "cell_type": "code",
   "execution_count": null,
   "id": "d4c57a27-acc1-4719-8339-5b557b86557e",
   "metadata": {},
   "outputs": [],
   "source": [
    "\n",
    "plt.figure(figsize=(8, 6))\n",
    "sns.histplot(df['followers'], bins=50, kde=False, color='skyblue')\n",
    "plt.title('Histogram of Followers')\n",
    "plt.xlabel('Number of Followers')\n",
    "plt.ylabel('Frequency')\n",
    "\n",
    "# Set the x-axis limits to focus on 1 to 9 million\n",
    "# 140000 artist has less then 2.5million followers\n",
    "plt.xlim(1, 9000000)\n",
    "\n",
    "plt.show()"
   ]
  },
  {
   "cell_type": "code",
   "execution_count": null,
   "id": "1a778769-02d1-4259-8f31-41f57733f018",
   "metadata": {},
   "outputs": [],
   "source": [
    "plt.figure(figsize=(12, 5))\n",
    "\n",
    "plt.subplot(1, 2, 2)\n",
    "sns.histplot(df['popularity'], bins=50, kde=True, color='green')\n",
    "plt.title('Distribution of Popularity')\n",
    "\n",
    "plt.tight_layout()\n",
    "plt.show()"
   ]
  },
  {
   "cell_type": "code",
   "execution_count": null,
   "id": "c2ce6143-5748-448f-a2bb-2dcfc45a7126",
   "metadata": {},
   "outputs": [],
   "source": [
    "from sklearn.preprocessing import StandardScaler\n",
    "# LEts perform the standard scaler as these 2 attributes are the in the order.\n",
    "scaler = StandardScaler()\n",
    "df[['followers', 'popularity']] = scaler.fit_transform(df[['followers', 'popularity']])"
   ]
  },
  {
   "cell_type": "code",
   "execution_count": null,
   "id": "858eeee8-4c79-4081-baa7-f88ed8c66696",
   "metadata": {},
   "outputs": [],
   "source": [
    "df.head(5)"
   ]
  },
  {
   "cell_type": "code",
   "execution_count": null,
   "id": "f1f4fd0d-3a54-4a88-9e5d-47769fcae5dd",
   "metadata": {},
   "outputs": [],
   "source": [
    "\n",
    "plt.figure(figsize=(12, 5))\n",
    "\n",
    "plt.subplot(1, 2, 1)\n",
    "sns.histplot(df['followers'], bins=50, kde=True, color='blue')\n",
    "plt.title('Distribution of Followers')\n",
    "\n",
    "plt.subplot(1, 2, 2)\n",
    "sns.histplot(df['popularity'], bins=50, kde=True, color='green')\n",
    "plt.title('Distribution of Popularity')\n",
    "\n",
    "plt.tight_layout()\n",
    "plt.show()"
   ]
  },
  {
   "cell_type": "code",
   "execution_count": null,
   "id": "1a962df8-6eed-4a94-8c13-17a6f416affd",
   "metadata": {},
   "outputs": [],
   "source": [
    "df.to_csv(\"nodes_cleaned.csv\", index= False)"
   ]
  },
  {
   "cell_type": "code",
   "execution_count": null,
   "id": "58560cfb-b40c-4bc3-a415-f60ea71d25c8",
   "metadata": {},
   "outputs": [],
   "source": [
    "df_1 = pd.read_csv(\"nodes_cleaned.csv\")"
   ]
  },
  {
   "cell_type": "code",
   "execution_count": null,
   "id": "f31600ea-f6bf-4190-bbdc-362c1b55f4ae",
   "metadata": {},
   "outputs": [],
   "source": [
    "df_1.head()"
   ]
  },
  {
   "cell_type": "code",
   "execution_count": null,
   "id": "8765c113-8db3-4576-ad2f-3695f1aceefd",
   "metadata": {},
   "outputs": [],
   "source": [
    "# Since spotify_id and names are our identifiers.\n",
    "\n",
    "columns_to_include = ['followers', 'popularity', 'alternative Indie', 'classical_orchestral',\n",
    "                      'electronic', 'folk world', 'hazz', 'hip_hop', 'latin', 'metal',\n",
    "                      'pop', 'randb_Soul', 'reggae_dancehall', 'rock', 'soundtrack', 'unknown']\n",
    "\n",
    "X = df[columns_to_include]"
   ]
  }
 ],
 "metadata": {
  "kernelspec": {
   "display_name": "Python 3 (ipykernel)",
   "language": "python",
   "name": "python3"
  },
  "language_info": {
   "codemirror_mode": {
    "name": "ipython",
    "version": 3
   },
   "file_extension": ".py",
   "mimetype": "text/x-python",
   "name": "python",
   "nbconvert_exporter": "python",
   "pygments_lexer": "ipython3",
   "version": "3.10.16"
  }
 },
 "nbformat": 4,
 "nbformat_minor": 5
}
