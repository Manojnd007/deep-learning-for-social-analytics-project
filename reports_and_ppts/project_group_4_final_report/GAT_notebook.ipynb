{
  "nbformat": 4,
  "nbformat_minor": 0,
  "metadata": {
    "colab": {
      "provenance": [],
      "collapsed_sections": [
        "J-uD2ea5mipf",
        "anq22d8Bmp6p"
      ]
    },
    "kernelspec": {
      "name": "python3",
      "display_name": "Python 3"
    },
    "language_info": {
      "name": "python"
    }
  },
  "cells": [
    {
      "cell_type": "markdown",
      "source": [
        "# installing libraries"
      ],
      "metadata": {
        "id": "5IBLfk4dlmmd"
      }
    },
    {
      "cell_type": "code",
      "source": [
        "!pip install torch_geometric"
      ],
      "metadata": {
        "colab": {
          "base_uri": "https://localhost:8080/"
        },
        "id": "nGP7Gl0PeyvW",
        "outputId": "de6b3467-a6e0-4b00-f5d9-4e888c497dd0"
      },
      "execution_count": 33,
      "outputs": [
        {
          "output_type": "stream",
          "name": "stdout",
          "text": [
            "Requirement already satisfied: torch_geometric in /usr/local/lib/python3.11/dist-packages (2.6.1)\n",
            "Requirement already satisfied: aiohttp in /usr/local/lib/python3.11/dist-packages (from torch_geometric) (3.11.12)\n",
            "Requirement already satisfied: fsspec in /usr/local/lib/python3.11/dist-packages (from torch_geometric) (2024.10.0)\n",
            "Requirement already satisfied: jinja2 in /usr/local/lib/python3.11/dist-packages (from torch_geometric) (3.1.5)\n",
            "Requirement already satisfied: numpy in /usr/local/lib/python3.11/dist-packages (from torch_geometric) (1.26.4)\n",
            "Requirement already satisfied: psutil>=5.8.0 in /usr/local/lib/python3.11/dist-packages (from torch_geometric) (5.9.5)\n",
            "Requirement already satisfied: pyparsing in /usr/local/lib/python3.11/dist-packages (from torch_geometric) (3.2.1)\n",
            "Requirement already satisfied: requests in /usr/local/lib/python3.11/dist-packages (from torch_geometric) (2.32.3)\n",
            "Requirement already satisfied: tqdm in /usr/local/lib/python3.11/dist-packages (from torch_geometric) (4.67.1)\n",
            "Requirement already satisfied: aiohappyeyeballs>=2.3.0 in /usr/local/lib/python3.11/dist-packages (from aiohttp->torch_geometric) (2.4.6)\n",
            "Requirement already satisfied: aiosignal>=1.1.2 in /usr/local/lib/python3.11/dist-packages (from aiohttp->torch_geometric) (1.3.2)\n",
            "Requirement already satisfied: attrs>=17.3.0 in /usr/local/lib/python3.11/dist-packages (from aiohttp->torch_geometric) (25.1.0)\n",
            "Requirement already satisfied: frozenlist>=1.1.1 in /usr/local/lib/python3.11/dist-packages (from aiohttp->torch_geometric) (1.5.0)\n",
            "Requirement already satisfied: multidict<7.0,>=4.5 in /usr/local/lib/python3.11/dist-packages (from aiohttp->torch_geometric) (6.1.0)\n",
            "Requirement already satisfied: propcache>=0.2.0 in /usr/local/lib/python3.11/dist-packages (from aiohttp->torch_geometric) (0.2.1)\n",
            "Requirement already satisfied: yarl<2.0,>=1.17.0 in /usr/local/lib/python3.11/dist-packages (from aiohttp->torch_geometric) (1.18.3)\n",
            "Requirement already satisfied: MarkupSafe>=2.0 in /usr/local/lib/python3.11/dist-packages (from jinja2->torch_geometric) (3.0.2)\n",
            "Requirement already satisfied: charset-normalizer<4,>=2 in /usr/local/lib/python3.11/dist-packages (from requests->torch_geometric) (3.4.1)\n",
            "Requirement already satisfied: idna<4,>=2.5 in /usr/local/lib/python3.11/dist-packages (from requests->torch_geometric) (3.10)\n",
            "Requirement already satisfied: urllib3<3,>=1.21.1 in /usr/local/lib/python3.11/dist-packages (from requests->torch_geometric) (2.3.0)\n",
            "Requirement already satisfied: certifi>=2017.4.17 in /usr/local/lib/python3.11/dist-packages (from requests->torch_geometric) (2025.1.31)\n"
          ]
        }
      ]
    },
    {
      "cell_type": "code",
      "source": [
        "!pip install umap-learn"
      ],
      "metadata": {
        "colab": {
          "base_uri": "https://localhost:8080/"
        },
        "id": "SOzK78Ose3W8",
        "outputId": "cd48df28-7b76-4409-b8cf-d29caea49e28"
      },
      "execution_count": 34,
      "outputs": [
        {
          "output_type": "stream",
          "name": "stdout",
          "text": [
            "Requirement already satisfied: umap-learn in /usr/local/lib/python3.11/dist-packages (0.5.7)\n",
            "Requirement already satisfied: numpy>=1.17 in /usr/local/lib/python3.11/dist-packages (from umap-learn) (1.26.4)\n",
            "Requirement already satisfied: scipy>=1.3.1 in /usr/local/lib/python3.11/dist-packages (from umap-learn) (1.13.1)\n",
            "Requirement already satisfied: scikit-learn>=0.22 in /usr/local/lib/python3.11/dist-packages (from umap-learn) (1.6.1)\n",
            "Requirement already satisfied: numba>=0.51.2 in /usr/local/lib/python3.11/dist-packages (from umap-learn) (0.61.0)\n",
            "Requirement already satisfied: pynndescent>=0.5 in /usr/local/lib/python3.11/dist-packages (from umap-learn) (0.5.13)\n",
            "Requirement already satisfied: tqdm in /usr/local/lib/python3.11/dist-packages (from umap-learn) (4.67.1)\n",
            "Requirement already satisfied: llvmlite<0.45,>=0.44.0dev0 in /usr/local/lib/python3.11/dist-packages (from numba>=0.51.2->umap-learn) (0.44.0)\n",
            "Requirement already satisfied: joblib>=0.11 in /usr/local/lib/python3.11/dist-packages (from pynndescent>=0.5->umap-learn) (1.4.2)\n",
            "Requirement already satisfied: threadpoolctl>=3.1.0 in /usr/local/lib/python3.11/dist-packages (from scikit-learn>=0.22->umap-learn) (3.5.0)\n"
          ]
        }
      ]
    },
    {
      "cell_type": "markdown",
      "source": [
        "# importing libraries"
      ],
      "metadata": {
        "id": "7cSUULTYluM0"
      }
    },
    {
      "cell_type": "markdown",
      "source": [
        "# Fulfills requirements:\n",
        "# - Proper imports and setup\n",
        "# - Logging configuration\n",
        "# - Type hints for better code documentation"
      ],
      "metadata": {
        "id": "Wd7MpC6ylzff"
      }
    },
    {
      "cell_type": "code",
      "source": [
        "import pandas as pd\n",
        "import torch\n",
        "import torch.nn.functional as F\n",
        "from torch_geometric.nn import GATConv\n",
        "from torch_geometric.data import HeteroData\n",
        "from sklearn.metrics import roc_auc_score, f1_score, confusion_matrix\n",
        "from sklearn.model_selection import train_test_split\n",
        "import numpy as np\n",
        "import random\n",
        "import matplotlib.pyplot as plt\n",
        "import seaborn as sns\n",
        "from torch.optim.lr_scheduler import ReduceLROnPlateau\n",
        "import logging\n",
        "import json\n",
        "from typing import Dict, List, Tuple, Optional\n",
        "from tqdm import tqdm"
      ],
      "metadata": {
        "id": "ntX_4SHBlYON"
      },
      "execution_count": 35,
      "outputs": []
    },
    {
      "cell_type": "markdown",
      "source": [
        "# Set up logging"
      ],
      "metadata": {
        "id": "tpNunVgnl2jy"
      }
    },
    {
      "cell_type": "code",
      "source": [
        "# Set up logging\n",
        "logging.basicConfig(\n",
        "    level=logging.INFO,\n",
        "    format='%(asctime)s - %(levelname)s - %(message)s',\n",
        "    filename='training.log'\n",
        ")"
      ],
      "metadata": {
        "id": "QZn2-D0dlaZT"
      },
      "execution_count": null,
      "outputs": []
    },
    {
      "cell_type": "markdown",
      "source": [
        "# Fulfills requirements:\n",
        "# - Proper data validation\n",
        "# - Error handling"
      ],
      "metadata": {
        "id": "-e6ggD3fl6Ix"
      }
    },
    {
      "cell_type": "code",
      "source": [
        "class DataValidator:\n",
        "    @staticmethod\n",
        "    def validate_dataframe(df: pd.DataFrame, required_columns: List[str]) -> bool:\n",
        "        missing_cols = [col for col in required_columns if col not in df.columns]\n",
        "        if missing_cols:\n",
        "            logging.error(f\"Missing required columns: {missing_cols}\")\n",
        "            return False\n",
        "\n",
        "        null_counts = df.isnull().sum()\n",
        "        if null_counts.any():\n",
        "            logging.warning(f\"Null values found:\\n{null_counts[null_counts > 0]}\")\n",
        "\n",
        "        return True\n",
        "\n",
        "    @staticmethod\n",
        "    def generate_data_report(nodes_df: pd.DataFrame,\n",
        "                           edges_df: pd.DataFrame,\n",
        "                           genre_columns: List[str]) -> Dict:\n",
        "        report = {\n",
        "            'nodes_stats': {\n",
        "                'total_nodes': len(nodes_df),\n",
        "                'total_artists': len(nodes_df),\n",
        "                'total_genres': len(genre_columns),\n",
        "                'avg_followers': float(nodes_df['followers'].mean()),\n",
        "                'avg_popularity': float(nodes_df['popularity'].mean()),\n",
        "                'genre_distribution': {\n",
        "                    genre: int(nodes_df[genre].sum())\n",
        "                    for genre in genre_columns\n",
        "                },\n",
        "                'missing_data': nodes_df.isnull().sum().to_dict()\n",
        "            },\n",
        "            'edges_stats': {\n",
        "                'total_edges': len(edges_df),\n",
        "                'artist_genre_connections': sum(\n",
        "                    nodes_df[genre].sum() for genre in genre_columns\n",
        "                ),\n",
        "                'artist_collaborations': len(edges_df)\n",
        "            }\n",
        "        }\n",
        "        return report"
      ],
      "metadata": {
        "id": "GV1wj36elcyI"
      },
      "execution_count": 36,
      "outputs": []
    },
    {
      "cell_type": "markdown",
      "source": [
        "# Fulfills requirements:\n",
        "# - GNN model implementation\n",
        "# - Proper architecture design\n",
        "# - Dropout for regularization"
      ],
      "metadata": {
        "id": "5cR7ySl3l9Zp"
      }
    },
    {
      "cell_type": "code",
      "source": [
        "class HeterogeneousGNN(torch.nn.Module):\n",
        "    def __init__(self, artist_features, genre_features, hidden_channels=64):\n",
        "        super().__init__()\n",
        "\n",
        "        self.hidden_channels = hidden_channels\n",
        "\n",
        "        # Initial projections\n",
        "        self.artist_encoder = torch.nn.Sequential(\n",
        "            torch.nn.Linear(artist_features, hidden_channels),\n",
        "            torch.nn.ReLU(),\n",
        "            torch.nn.BatchNorm1d(hidden_channels),\n",
        "            torch.nn.Dropout(0.2)\n",
        "        )\n",
        "\n",
        "        self.genre_encoder = torch.nn.Sequential(\n",
        "            torch.nn.Linear(genre_features, hidden_channels),\n",
        "            torch.nn.ReLU(),\n",
        "            torch.nn.BatchNorm1d(hidden_channels),\n",
        "            torch.nn.Dropout(0.2)\n",
        "        )\n",
        "\n",
        "        # GNN layers\n",
        "        self.conv1 = GATConv(\n",
        "            in_channels=hidden_channels,\n",
        "            out_channels=hidden_channels,\n",
        "            heads=4,\n",
        "            dropout=0.2,\n",
        "            concat=True\n",
        "        )\n",
        "\n",
        "        self.conv2 = GATConv(\n",
        "            in_channels=hidden_channels * 4,\n",
        "            out_channels=hidden_channels,\n",
        "            heads=1,\n",
        "            dropout=0.2,\n",
        "            concat=False\n",
        "        )\n",
        "\n",
        "        # Link predictor\n",
        "        self.link_predictor = torch.nn.Sequential(\n",
        "            torch.nn.Linear(hidden_channels * 2, hidden_channels),\n",
        "            torch.nn.ReLU(),\n",
        "            torch.nn.BatchNorm1d(hidden_channels),\n",
        "            torch.nn.Dropout(0.2),\n",
        "            torch.nn.Linear(hidden_channels, 1),\n",
        "            torch.nn.Sigmoid()\n",
        "        )\n",
        "\n",
        "    def forward(self, x_dict, edge_index_dict):\n",
        "        # Encode features\n",
        "        artist_x = self.artist_encoder(x_dict['artist'])\n",
        "        genre_x = self.genre_encoder(x_dict['genre'])\n",
        "\n",
        "        # Process artist-genre edges\n",
        "        artist_to_genre = edge_index_dict[('artist', 'belongs_to', 'genre')]\n",
        "        genre_to_artist = edge_index_dict[('genre', 'has', 'artist')]\n",
        "        collab_edges = edge_index_dict[('artist', 'collaborates', 'artist')]\n",
        "\n",
        "        # First convolution layer\n",
        "        artist_x1 = self.conv1(artist_x, collab_edges)\n",
        "        artist_x1 = F.relu(artist_x1)\n",
        "        artist_x1 = F.dropout(artist_x1, p=0.2, training=self.training)\n",
        "\n",
        "        # Second convolution layer\n",
        "        artist_x2 = self.conv2(artist_x1, collab_edges)\n",
        "        artist_x2 = F.relu(artist_x2)\n",
        "\n",
        "        # Final artist embeddings\n",
        "        artist_x = artist_x2\n",
        "\n",
        "        return {'artist': artist_x, 'genre': genre_x}\n",
        "\n",
        "    def predict_collaboration(self, x_dict, edge_pairs):\n",
        "        # Get embeddings for the pairs\n",
        "        src_embeds = x_dict['artist'][edge_pairs[:, 0]]\n",
        "        dst_embeds = x_dict['artist'][edge_pairs[:, 1]]\n",
        "\n",
        "        # Concatenate embeddings\n",
        "        pair_embeds = torch.cat([src_embeds, dst_embeds], dim=1)\n",
        "\n",
        "        # Predict link probability\n",
        "        return self.link_predictor(pair_embeds).squeeze()"
      ],
      "metadata": {
        "id": "aab3rDrOlfdM"
      },
      "execution_count": 37,
      "outputs": []
    },
    {
      "cell_type": "markdown",
      "source": [
        "# Fulfills requirements:\n",
        "# - Proper data loading\n",
        "# - Data cleaning\n",
        "# - Handling missing values"
      ],
      "metadata": {
        "id": "4usJBPRumBNU"
      }
    },
    {
      "cell_type": "code",
      "source": [
        "def load_and_clean_data(nodes_path: str,\n",
        "                       edges_path: str,\n",
        "                       min_followers_percentile: float = 25  # Use percentile instead of absolute value\n",
        "                       ) -> Tuple[pd.DataFrame, pd.DataFrame, List[str]]:\n",
        "    \"\"\"\n",
        "    Load and clean data with handling for pre-normalized values\n",
        "    \"\"\"\n",
        "    # Load data with low_memory=False to handle mixed types\n",
        "    print(\"Loading data files...\")\n",
        "    nodes_df = pd.read_csv(nodes_path, dtype={'spotify_id': str}, low_memory=False)\n",
        "    edges_df = pd.read_csv(edges_path, dtype={'id_0': str, 'id_1': str})\n",
        "\n",
        "    print(f\"\\nInitial data stats:\")\n",
        "    print(f\"Total nodes: {len(nodes_df)}\")\n",
        "    print(f\"Total edges: {len(edges_df)}\")\n",
        "\n",
        "    # Drop the Unnamed column if it exists\n",
        "    unnamed_cols = [col for col in nodes_df.columns if 'Unnamed:' in col]\n",
        "    if unnamed_cols:\n",
        "        nodes_df = nodes_df.drop(columns=unnamed_cols)\n",
        "\n",
        "    # Convert 'followers' column to numeric, handling errors\n",
        "    nodes_df['followers'] = pd.to_numeric(nodes_df['followers'], errors='coerce')\n",
        "\n",
        "    # Report on data distribution before cleaning\n",
        "    print(\"\\nData distribution before cleaning:\")\n",
        "    print(\"\\nFollowers statistics:\")\n",
        "    print(nodes_df['followers'].describe())\n",
        "    print(\"\\nPopularity statistics:\")\n",
        "    print(nodes_df['popularity'].describe())\n",
        "\n",
        "    # Handle null values\n",
        "    nodes_df['followers'] = nodes_df['followers'].fillna(nodes_df['followers'].min())\n",
        "    nodes_df['popularity'] = nodes_df['popularity'].fillna(nodes_df['popularity'].min())\n",
        "\n",
        "    # Filter based on follower percentile instead of absolute value\n",
        "    follower_threshold = nodes_df['followers'].quantile(min_followers_percentile/100)\n",
        "    original_len = len(nodes_df)\n",
        "    nodes_df = nodes_df[nodes_df['followers'] >= follower_threshold]\n",
        "    print(f\"\\nRemoved {original_len - len(nodes_df)} rows with followers below {min_followers_percentile}th percentile\")\n",
        "\n",
        "    # Remove unknown genre only if artist has no other genres\n",
        "    genre_columns = [col for col in nodes_df.columns\n",
        "                    if col not in ['spotify_id', 'name', 'followers', 'popularity']]\n",
        "\n",
        "    # Count number of genres per artist\n",
        "    nodes_df['genre_count'] = nodes_df[genre_columns].sum(axis=1)\n",
        "\n",
        "    # Only remove artists with unknown genre if they have no other genres\n",
        "    original_len = len(nodes_df)\n",
        "    nodes_df = nodes_df[~((nodes_df['unknown'] == 1) & (nodes_df['genre_count'] == 1))]\n",
        "    print(f\"Removed {original_len - len(nodes_df)} rows with only unknown genre\")\n",
        "\n",
        "    # Drop the temporary genre_count column\n",
        "    nodes_df = nodes_df.drop('genre_count', axis=1)\n",
        "\n",
        "    # Fill NA values in genre columns with 0\n",
        "    for col in genre_columns:\n",
        "        nodes_df[col] = nodes_df[col].fillna(0)\n",
        "\n",
        "    # Ensure all edges reference existing nodes\n",
        "    valid_ids = set(nodes_df['spotify_id'])\n",
        "    original_edges = len(edges_df)\n",
        "    valid_edges = edges_df[\n",
        "        edges_df['id_0'].isin(valid_ids) &\n",
        "        edges_df['id_1'].isin(valid_ids)\n",
        "    ].copy()\n",
        "\n",
        "    print(f\"\\nFinal data stats:\")\n",
        "    print(f\"Final nodes: {len(nodes_df)}\")\n",
        "    print(f\"Final edges: {len(valid_edges)}\")\n",
        "    print(f\"Removed {original_edges - len(valid_edges)} invalid edges\")\n",
        "\n",
        "    if len(valid_edges) == 0:\n",
        "        raise ValueError(\"No valid edges remaining after cleaning. Check filtering criteria.\")\n",
        "\n",
        "    # Get final list of genre columns\n",
        "    genre_columns = [col for col in nodes_df.columns\n",
        "                    if col not in ['spotify_id', 'name', 'followers', 'popularity']]\n",
        "\n",
        "    print(\"\\nGenre distribution after cleaning:\")\n",
        "    for genre in genre_columns:\n",
        "        count = nodes_df[genre].sum()\n",
        "        print(f\"{genre}: {count}\")\n",
        "\n",
        "    return nodes_df, valid_edges, genre_columns"
      ],
      "metadata": {
        "id": "2m6UnLB9lj_c"
      },
      "execution_count": 38,
      "outputs": []
    },
    {
      "cell_type": "markdown",
      "source": [
        "# Fulfills requirements:\n",
        "# - Proper graph construction\n",
        "# - Feature normalization"
      ],
      "metadata": {
        "id": "tPk6iL0hmEMi"
      }
    },
    {
      "cell_type": "code",
      "source": [
        "def prepare_bipartite_data(nodes_df: pd.DataFrame,\n",
        "                          edges_df: pd.DataFrame,\n",
        "                          genre_columns: List[str]) -> HeteroData:\n",
        "    \"\"\"\n",
        "    Prepare bipartite graph data with improved logging\n",
        "    \"\"\"\n",
        "    device = torch.device('cuda' if torch.cuda.is_available() else 'cpu')\n",
        "    print(f\"\\nPreparing graph data on {device}\")\n",
        "\n",
        "    # Create artist features\n",
        "    artist_features = torch.tensor(\n",
        "        nodes_df[['followers', 'popularity']].values,\n",
        "        dtype=torch.float\n",
        "    ).to(device)\n",
        "    print(f\"Created artist features tensor: {artist_features.shape}\")\n",
        "\n",
        "    # Create genre features\n",
        "    genre_x = torch.eye(len(genre_columns), dtype=torch.float).to(device)\n",
        "    print(f\"Created genre features tensor: {genre_x.shape}\")\n",
        "\n",
        "    # Create edges\n",
        "    belongs_to_edges = []\n",
        "    has_edges = []\n",
        "\n",
        "    print(\"\\nProcessing artist-genre relationships...\")\n",
        "    for artist_idx, row in enumerate(tqdm(nodes_df.iterrows(),\n",
        "                                        total=len(nodes_df))):\n",
        "        artist_genres = []\n",
        "        for genre_idx, genre in enumerate(genre_columns):\n",
        "            if row[1][genre] == 1:\n",
        "                belongs_to_edges.append((artist_idx, genre_idx))\n",
        "                has_edges.append((genre_idx, artist_idx))\n",
        "                artist_genres.append(genre)\n",
        "\n",
        "        if len(artist_genres) > 0 and artist_idx % 10000 == 0:\n",
        "            print(f\"Processed artist {artist_idx}, genres: {artist_genres}\")\n",
        "\n",
        "    print(f\"\\nCreated {len(belongs_to_edges)} artist-genre edges\")\n",
        "\n",
        "    # Create graph data\n",
        "    data = HeteroData()\n",
        "    data['artist'].x = artist_features\n",
        "    data['genre'].x = genre_x\n",
        "\n",
        "    # Add genre edges\n",
        "    if belongs_to_edges:\n",
        "        belongs_to_edge_index = torch.tensor(belongs_to_edges,\n",
        "                                           dtype=torch.long).t().contiguous()\n",
        "        has_edge_index = torch.tensor(has_edges,\n",
        "                                    dtype=torch.long).t().contiguous()\n",
        "\n",
        "        data['artist', 'belongs_to', 'genre'].edge_index = belongs_to_edge_index.to(device)\n",
        "        data['genre', 'has', 'artist'].edge_index = has_edge_index.to(device)\n",
        "\n",
        "        print(\"\\nGenre edge indices created successfully\")\n",
        "\n",
        "    # Add collaboration edges\n",
        "    node_index_map = {id_: idx for idx, id_ in enumerate(nodes_df['spotify_id'])}\n",
        "\n",
        "    # Ensure edges are valid\n",
        "    valid_edges = edges_df[\n",
        "        edges_df['id_0'].isin(node_index_map) &\n",
        "        edges_df['id_1'].isin(node_index_map)\n",
        "    ]\n",
        "\n",
        "    print(f\"\\nValid collaboration edges: {len(valid_edges)}\")\n",
        "\n",
        "    if len(valid_edges) == 0:\n",
        "        raise ValueError(\"No valid collaboration edges found after mapping\")\n",
        "\n",
        "    collab_edges = torch.tensor([\n",
        "        [node_index_map[id_] for id_ in valid_edges['id_0']],\n",
        "        [node_index_map[id_] for id_ in valid_edges['id_1']]\n",
        "    ], dtype=torch.long).to(device)\n",
        "\n",
        "    data['artist', 'collaborates', 'artist'].edge_index = collab_edges\n",
        "\n",
        "    print(\"\\nFinal graph statistics:\")\n",
        "    print(f\"Number of artists: {artist_features.size(0)}\")\n",
        "    print(f\"Number of genres: {genre_x.size(0)}\")\n",
        "    print(f\"Number of artist-genre edges: {len(belongs_to_edges)}\")\n",
        "    print(f\"Number of collaboration edges: {collab_edges.size(1)}\")\n",
        "\n",
        "    return data"
      ],
      "metadata": {
        "id": "T7m_7nTClmru"
      },
      "execution_count": 39,
      "outputs": []
    },
    {
      "cell_type": "markdown",
      "source": [
        "# Fulfills requirements:\n",
        "# - Efficient training implementation\n",
        "# - Early stopping\n",
        "# - Learning rate scheduling"
      ],
      "metadata": {
        "id": "b5p4aWUhmILl"
      }
    },
    {
      "cell_type": "code",
      "source": [
        "def calculate_metrics(pred, true):\n",
        "    \"\"\"Calculate accuracy and other metrics\"\"\"\n",
        "    pred_labels = (pred > 0.5).float()\n",
        "    accuracy = (pred_labels == true).float().mean().item()\n",
        "    return accuracy\n",
        "\n",
        "def train_model(model, data, train_edges, val_edges, num_epochs=2, batch_size=128):\n",
        "    \"\"\"Train the model with detailed metric logging\"\"\"\n",
        "    device = next(model.parameters()).device\n",
        "    optimizer = torch.optim.Adam(model.parameters(), lr=0.001, weight_decay=1e-5)\n",
        "    scheduler = ReduceLROnPlateau(optimizer, mode='min', factor=0.5, patience=2)\n",
        "\n",
        "    print(f\"Training data size: {train_edges.shape}\")\n",
        "    print(f\"Validation data size: {val_edges.shape}\")\n",
        "\n",
        "    # Convert edges to the correct format if needed\n",
        "    if len(train_edges.shape) == 2 and train_edges.shape[1] == 2:\n",
        "        train_edges = train_edges.t()\n",
        "    if len(val_edges.shape) == 2 and val_edges.shape[1] == 2:\n",
        "        val_edges = val_edges.t()\n",
        "\n",
        "    print(f\"Reshaped training edges: {train_edges.shape}\")\n",
        "    print(f\"Reshaped validation edges: {val_edges.shape}\")\n",
        "\n",
        "    # Set reasonable batch size\n",
        "    num_train_samples = train_edges.size(1)\n",
        "    batch_size = min(batch_size, num_train_samples // 10)\n",
        "    print(f\"Using batch size: {batch_size}\")\n",
        "\n",
        "    best_val_score = 0\n",
        "    best_model_state = None\n",
        "    history = {\n",
        "        'train_loss': [],\n",
        "        'train_acc': [],\n",
        "        'val_loss': [],\n",
        "        'val_acc': [],\n",
        "        'val_roc_auc': []\n",
        "    }\n",
        "\n",
        "    print(\"\\nStarting training:\")\n",
        "    print(\"Epoch | Batch | Train Loss | Train Acc | Val Loss | Val Acc | Val ROC-AUC\")\n",
        "    print(\"-\" * 75)\n",
        "\n",
        "    for epoch in range(num_epochs):\n",
        "        model.train()\n",
        "        total_loss = 0\n",
        "        total_acc = 0\n",
        "        num_batches = 0\n",
        "\n",
        "        # Create batches\n",
        "        indices = torch.randperm(train_edges.size(1))\n",
        "        num_batches_total = (len(indices) + batch_size - 1) // batch_size\n",
        "\n",
        "        # Training loop with progress bar\n",
        "        pbar = tqdm(range(0, len(indices), batch_size),\n",
        "                   desc=f\"Epoch {epoch+1}/{num_epochs}\")\n",
        "\n",
        "        for batch_idx in pbar:\n",
        "            batch_indices = indices[batch_idx:batch_idx + batch_size]\n",
        "            batch_edges = train_edges[:, batch_indices]\n",
        "\n",
        "            if len(batch_indices) < 2:\n",
        "                continue\n",
        "\n",
        "            optimizer.zero_grad()\n",
        "\n",
        "            try:\n",
        "                # Generate negative samples\n",
        "                batch_neg_edges = generate_negative_edges(data, len(batch_indices))\n",
        "\n",
        "                # Forward pass\n",
        "                embeddings = model(data.x_dict, data.edge_index_dict)\n",
        "                pos_pred = model.predict_collaboration(embeddings, batch_edges.t())\n",
        "                neg_pred = model.predict_collaboration(embeddings, batch_neg_edges)\n",
        "\n",
        "                # Calculate loss\n",
        "                pos_loss = F.binary_cross_entropy(pos_pred, torch.ones_like(pos_pred))\n",
        "                neg_loss = F.binary_cross_entropy(neg_pred, torch.zeros_like(neg_pred))\n",
        "                loss = pos_loss + neg_loss\n",
        "\n",
        "                # Calculate accuracy\n",
        "                batch_pred = torch.cat([pos_pred, neg_pred])\n",
        "                batch_true = torch.cat([\n",
        "                    torch.ones_like(pos_pred),\n",
        "                    torch.zeros_like(neg_pred)\n",
        "                ])\n",
        "                batch_acc = calculate_metrics(batch_pred, batch_true)\n",
        "\n",
        "                # Backward pass\n",
        "                loss.backward()\n",
        "                torch.nn.utils.clip_grad_norm_(model.parameters(), 1.0)\n",
        "                optimizer.step()\n",
        "\n",
        "                total_loss += loss.item()\n",
        "                total_acc += batch_acc\n",
        "                num_batches += 1\n",
        "\n",
        "                # Update progress bar\n",
        "                pbar.set_postfix({\n",
        "                    'loss': f\"{loss.item():.4f}\",\n",
        "                    'acc': f\"{batch_acc:.4f}\"\n",
        "                })\n",
        "\n",
        "            except Exception as e:\n",
        "                print(f\"\\nError in batch {num_batches}:\")\n",
        "                print(f\"Batch indices shape: {batch_indices.shape}\")\n",
        "                print(f\"Batch edges shape: {batch_edges.shape}\")\n",
        "                print(f\"Error: {str(e)}\")\n",
        "                continue\n",
        "\n",
        "        if num_batches == 0:\n",
        "            raise ValueError(\"No valid batches were processed during training\")\n",
        "\n",
        "        avg_train_loss = total_loss / num_batches\n",
        "        avg_train_acc = total_acc / num_batches\n",
        "\n",
        "        # Validation\n",
        "        model.eval()\n",
        "        val_losses = []\n",
        "        val_predictions = []\n",
        "        val_labels = []\n",
        "\n",
        "        with torch.no_grad():\n",
        "            # Process validation in batches\n",
        "            for batch_idx in range(0, val_edges.size(1), batch_size):\n",
        "                batch_val_edges = val_edges[:, batch_idx:batch_idx + batch_size]\n",
        "\n",
        "                if batch_val_edges.size(1) < 2:\n",
        "                    continue\n",
        "\n",
        "                # Generate negative samples\n",
        "                batch_val_neg_edges = generate_negative_edges(data, batch_val_edges.size(1))\n",
        "\n",
        "                # Get embeddings and predictions\n",
        "                embeddings = model(data.x_dict, data.edge_index_dict)\n",
        "                val_pos_pred = model.predict_collaboration(embeddings, batch_val_edges.t())\n",
        "                val_neg_pred = model.predict_collaboration(embeddings, batch_val_neg_edges)\n",
        "\n",
        "                # Store predictions and labels\n",
        "                val_predictions.extend([val_pos_pred, val_neg_pred])\n",
        "                val_labels.extend([\n",
        "                    torch.ones_like(val_pos_pred),\n",
        "                    torch.zeros_like(val_neg_pred)\n",
        "                ])\n",
        "\n",
        "            if val_predictions:\n",
        "                val_pred = torch.cat(val_predictions)\n",
        "                val_true = torch.cat(val_labels)\n",
        "\n",
        "                val_loss = F.binary_cross_entropy(val_pred, val_true)\n",
        "                val_acc = calculate_metrics(val_pred, val_true)\n",
        "                val_roc_auc = roc_auc_score(val_true.cpu(), val_pred.cpu())\n",
        "\n",
        "                scheduler.step(val_loss)\n",
        "\n",
        "                if val_roc_auc > best_val_score:\n",
        "                    best_val_score = val_roc_auc\n",
        "                    best_model_state = model.state_dict()\n",
        "\n",
        "                # Store metrics\n",
        "                history['train_loss'].append(avg_train_loss)\n",
        "                history['train_acc'].append(avg_train_acc)\n",
        "                history['val_loss'].append(val_loss.item())\n",
        "                history['val_acc'].append(val_acc)\n",
        "                history['val_roc_auc'].append(val_roc_auc)\n",
        "\n",
        "                # Print metrics\n",
        "                print(f\"{epoch+1:5d} | {num_batches:5d} | \"\n",
        "                      f\"{avg_train_loss:.4f} | {avg_train_acc:.4f} | \"\n",
        "                      f\"{val_loss:.4f} | {val_acc:.4f} | {val_roc_auc:.4f}\")\n",
        "\n",
        "    if best_model_state is not None:\n",
        "        model.load_state_dict(best_model_state)\n",
        "\n",
        "    # Print final performance\n",
        "    print(\"\\nTraining completed!\")\n",
        "    print(\"Best validation ROC-AUC:\", best_val_score)\n",
        "    print(\"\\nFinal metrics:\")\n",
        "    print(f\"Train Loss: {history['train_loss'][-1]:.4f}\")\n",
        "    print(f\"Train Accuracy: {history['train_acc'][-1]:.4f}\")\n",
        "    print(f\"Validation Loss: {history['val_loss'][-1]:.4f}\")\n",
        "    print(f\"Validation Accuracy: {history['val_acc'][-1]:.4f}\")\n",
        "    print(f\"Validation ROC-AUC: {history['val_roc_auc'][-1]:.4f}\")\n",
        "\n",
        "    return model, history"
      ],
      "metadata": {
        "id": "rLxPXbPLlpZJ"
      },
      "execution_count": 40,
      "outputs": []
    },
    {
      "cell_type": "markdown",
      "source": [
        "# Fulfills requirements:\n",
        "# - Efficient prediction for large datasets\n",
        "# - Proper sampling strategy"
      ],
      "metadata": {
        "id": "sQzYZu9zmNd7"
      }
    },
    {
      "cell_type": "code",
      "source": [
        "def predict_new_collaborations(model: HeterogeneousGNN,\n",
        "                             data: HeteroData,\n",
        "                             nodes_df: pd.DataFrame,\n",
        "                             num_predictions: int = 10,\n",
        "                             sample_size: int = 5000,\n",
        "                             min_popularity: float = 0.3,\n",
        "                             batch_size: int = 512) -> List[Dict]:\n",
        "    \"\"\"\n",
        "    Predict potential new collaborations with proper index mapping\n",
        "    \"\"\"\n",
        "    device = next(model.parameters()).device\n",
        "    model.eval()\n",
        "    torch.cuda.empty_cache()\n",
        "\n",
        "    try:\n",
        "        with torch.no_grad():\n",
        "            print(\"Computing embeddings...\")\n",
        "            embeddings = model(data.x_dict, data.edge_index_dict)\n",
        "            num_artists = embeddings['artist'].size(0)\n",
        "\n",
        "            print(\"Filtering artists by popularity...\")\n",
        "            popular_mask = nodes_df['popularity'] >= min_popularity\n",
        "            popular_indices = np.where(popular_mask)[0]\n",
        "\n",
        "            if len(popular_indices) == 0:\n",
        "                print(\"Warning: No artists found above popularity threshold\")\n",
        "                return []\n",
        "\n",
        "            print(f\"Found {len(popular_indices)} artists above popularity threshold\")\n",
        "\n",
        "            # Get existing collaborations\n",
        "            existing_edges = set(map(tuple,\n",
        "                data['artist', 'collaborates', 'artist'].edge_index.t().tolist()))\n",
        "\n",
        "            # Sample potential pairs only from valid indices\n",
        "            print(\"Sampling potential pairs...\")\n",
        "            potential_pairs = []\n",
        "            attempts = 0\n",
        "            max_attempts = sample_size * 10\n",
        "\n",
        "            with tqdm(total=sample_size, desc=\"Sampling artist pairs\") as pbar:\n",
        "                while len(potential_pairs) < sample_size and attempts < max_attempts:\n",
        "                    i = np.random.choice(popular_indices)\n",
        "                    j = np.random.choice(popular_indices)\n",
        "\n",
        "                    # Verify indices are within bounds\n",
        "                    if (i < num_artists and j < num_artists and\n",
        "                        i != j and\n",
        "                        (i, j) not in existing_edges and\n",
        "                        (j, i) not in existing_edges and\n",
        "                        [i, j] not in potential_pairs):\n",
        "                        potential_pairs.append([i, j])\n",
        "                        pbar.update(1)\n",
        "                    attempts += 1\n",
        "\n",
        "            if not potential_pairs:\n",
        "                print(\"Warning: No valid pairs found\")\n",
        "                return []\n",
        "\n",
        "            print(f\"Processing {len(potential_pairs)} potential pairs...\")\n",
        "            potential_pairs = torch.tensor(potential_pairs, device=device)\n",
        "\n",
        "            # Predict in batches\n",
        "            scores = []\n",
        "            valid_pairs = []\n",
        "\n",
        "            for i in tqdm(range(0, len(potential_pairs), batch_size), desc=\"Computing scores\"):\n",
        "                batch = potential_pairs[i:i + batch_size]\n",
        "                try:\n",
        "                    batch_scores = model.predict_collaboration(embeddings, batch)\n",
        "                    # Move scores to CPU to save GPU memory\n",
        "                    scores.append(batch_scores.cpu())\n",
        "                    valid_pairs.append(batch.cpu())\n",
        "                except Exception as e:\n",
        "                    print(f\"Error processing batch {i}: {str(e)}\")\n",
        "                    continue\n",
        "\n",
        "            if not scores:\n",
        "                print(\"Warning: No valid predictions generated\")\n",
        "                return []\n",
        "\n",
        "            # Concatenate valid predictions and scores\n",
        "            scores = torch.cat(scores)\n",
        "            valid_pairs = torch.cat(valid_pairs)\n",
        "\n",
        "            print(\"Finding top predictions...\")\n",
        "            top_k = min(num_predictions, len(scores))\n",
        "\n",
        "            try:\n",
        "                top_values, top_indices = torch.topk(scores, top_k)\n",
        "            except RuntimeError as e:\n",
        "                print(f\"Error in topk: {str(e)}\")\n",
        "                # Fallback: use numpy\n",
        "                scores_np = scores.numpy()\n",
        "                top_indices = np.argsort(scores_np)[-top_k:]\n",
        "                top_values = scores_np[top_indices]\n",
        "                top_indices = torch.tensor(top_indices)\n",
        "                top_values = torch.tensor(top_values)\n",
        "\n",
        "            predictions = []\n",
        "            print(\"Formatting predictions...\")\n",
        "            for idx, score in zip(top_indices, top_values):\n",
        "                pair = valid_pairs[idx]\n",
        "                artist1_idx = pair[0].item()\n",
        "                artist2_idx = pair[1].item()\n",
        "\n",
        "                try:\n",
        "                    artist1_data = nodes_df.iloc[artist1_idx]\n",
        "                    artist2_data = nodes_df.iloc[artist2_idx]\n",
        "\n",
        "                    predictions.append({\n",
        "                        'artist1': artist1_data['name'],\n",
        "                        'artist2': artist2_data['name'],\n",
        "                        'score': float(score),\n",
        "                        'artist1_popularity': float(artist1_data['popularity']),\n",
        "                        'artist2_popularity': float(artist2_data['popularity']),\n",
        "                        'genres': get_common_genres(nodes_df, artist1_idx, artist2_idx)\n",
        "                    })\n",
        "                    print(predictions)\n",
        "                except Exception as e:\n",
        "                    print(f\"Error formatting prediction: {str(e)}\")\n",
        "                    continue\n",
        "\n",
        "            print(f\"Generated {len(predictions)} predictions\")\n",
        "            return predictions\n",
        "\n",
        "    except Exception as e:\n",
        "        print(f\"Error in prediction generation: {str(e)}\")\n",
        "        return []\n",
        "    finally:\n",
        "        torch.cuda.empty_cache()"
      ],
      "metadata": {
        "id": "H-LyXMePlr25"
      },
      "execution_count": 41,
      "outputs": []
    },
    {
      "cell_type": "markdown",
      "source": [
        "# Fulfills requirements:\n",
        "# - Proper negative sampling"
      ],
      "metadata": {
        "id": "lHOmSQWNmRNH"
      }
    },
    {
      "cell_type": "code",
      "source": [
        "def generate_negative_edges(data: HeteroData, num_samples: int) -> torch.Tensor:\n",
        "    \"\"\"Generate negative edges for training with efficient sampling\"\"\"\n",
        "    device = data['artist'].x.device\n",
        "    num_artists = data['artist'].x.size(0)\n",
        "\n",
        "    # Get existing edges as a set\n",
        "    existing_edges = set(map(tuple,\n",
        "        data['artist', 'collaborates', 'artist'].edge_index.t().tolist()))\n",
        "\n",
        "    negative_edges = []\n",
        "    max_attempts = num_samples * 10\n",
        "    attempts = 0\n",
        "\n",
        "    while len(negative_edges) < num_samples and attempts < max_attempts:\n",
        "        # Generate a batch of random pairs\n",
        "        src = random.randint(0, num_artists - 1)\n",
        "        dst = random.randint(0, num_artists - 1)\n",
        "\n",
        "        if src != dst and (src, dst) not in existing_edges and (dst, src) not in existing_edges:\n",
        "            negative_edges.append([src, dst])\n",
        "\n",
        "        attempts += 1\n",
        "\n",
        "    # If we couldn't generate enough edges, duplicate some\n",
        "    while len(negative_edges) < num_samples:\n",
        "        idx = random.randint(0, len(negative_edges) - 1)\n",
        "        negative_edges.append(negative_edges[idx])\n",
        "\n",
        "    return torch.tensor(negative_edges, dtype=torch.long, device=device)\n",
        "\n",
        "# Fulfills requirements:\n",
        "# - Proper genre analysis\n",
        "def get_common_genres(nodes_df: pd.DataFrame,\n",
        "                     artist1_idx: int,\n",
        "                     artist2_idx: int) -> List[str]:\n",
        "    \"\"\"Get common genres between two artists\"\"\"\n",
        "    genre_columns = [col for col in nodes_df.columns\n",
        "                    if col not in ['spotify_id', 'name', 'followers', 'popularity']]\n",
        "\n",
        "    artist1_genres = set(col for col in genre_columns\n",
        "                        if nodes_df.iloc[artist1_idx][col] == 1)\n",
        "    artist2_genres = set(col for col in genre_columns\n",
        "                        if nodes_df.iloc[artist2_idx][col] == 1)\n",
        "\n",
        "    return list(artist1_genres & artist2_genres)"
      ],
      "metadata": {
        "id": "2nsAqYdoluEm"
      },
      "execution_count": 42,
      "outputs": []
    },
    {
      "cell_type": "markdown",
      "source": [
        "# Fulfills requirements:\n",
        "# - Visualization of results"
      ],
      "metadata": {
        "id": "TH3NHVaGmWGw"
      }
    },
    {
      "cell_type": "code",
      "source": [
        "def plot_training_metrics(history: Dict):\n",
        "    \"\"\"Plot training metrics with improved visualization\"\"\"\n",
        "    epochs = range(1, len(history['train_loss']) + 1)\n",
        "\n",
        "    plt.figure(figsize=(15, 5))\n",
        "\n",
        "    # Plot losses\n",
        "    plt.subplot(1, 3, 1)\n",
        "    plt.plot(epochs, history['train_loss'], 'b-', label='Training Loss')\n",
        "    plt.plot(epochs, history['val_loss'], 'r-', label='Validation Loss')\n",
        "    plt.title('Training and Validation Loss')\n",
        "    plt.xlabel('Epoch')\n",
        "    plt.ylabel('Loss')\n",
        "    plt.legend()\n",
        "    plt.grid(True)\n",
        "\n",
        "    # Plot ROC-AUC\n",
        "    plt.subplot(1, 3, 2)\n",
        "    plt.plot(epochs, history['val_roc_auc'], 'g-', label='Validation ROC-AUC')\n",
        "    plt.title('ROC-AUC Score Evolution')\n",
        "    plt.xlabel('Epoch')\n",
        "    plt.ylabel('ROC-AUC')\n",
        "    plt.legend()\n",
        "    plt.grid(True)\n",
        "\n",
        "    plt.tight_layout()\n",
        "    plt.show()\n",
        "    plt.savefig('training_metrics.png')\n",
        "    plt.close()\n"
      ],
      "metadata": {
        "id": "KdFXIL9nlw4H"
      },
      "execution_count": 43,
      "outputs": []
    },
    {
      "cell_type": "code",
      "source": [
        "def plot_training_metrics(history: Dict):\n",
        "    \"\"\"Plot comprehensive training metrics\"\"\"\n",
        "    epochs = range(1, len(history['train_loss']) + 1)\n",
        "\n",
        "    # Create a figure with 2x2 subplots\n",
        "    plt.figure(figsize=(20, 15))\n",
        "\n",
        "    # 1. Plot Loss\n",
        "    plt.subplot(2, 2, 1)\n",
        "    plt.plot(epochs, history['train_loss'], 'b-', label='Training Loss')\n",
        "    plt.plot(epochs, history['val_loss'], 'r-', label='Validation Loss')\n",
        "    plt.title('Training and Validation Loss', fontsize=14)\n",
        "    plt.xlabel('Epoch', fontsize=12)\n",
        "    plt.ylabel('Loss', fontsize=12)\n",
        "    plt.legend(fontsize=12)\n",
        "    plt.grid(True)\n",
        "\n",
        "    # 2. Plot Accuracy\n",
        "    plt.subplot(2, 2, 2)\n",
        "    plt.plot(epochs, history['train_acc'], 'b-', label='Training Accuracy')\n",
        "    plt.plot(epochs, history['val_acc'], 'r-', label='Validation Accuracy')\n",
        "    plt.title('Training and Validation Accuracy', fontsize=14)\n",
        "    plt.xlabel('Epoch', fontsize=12)\n",
        "    plt.ylabel('Accuracy', fontsize=12)\n",
        "    plt.legend(fontsize=12)\n",
        "    plt.grid(True)\n",
        "\n",
        "    # 3. Plot ROC-AUC\n",
        "    plt.subplot(2, 2, 3)\n",
        "    plt.plot(epochs, history['val_roc_auc'], 'g-', label='Validation ROC-AUC')\n",
        "    plt.title('ROC-AUC Score Evolution', fontsize=14)\n",
        "    plt.xlabel('Epoch', fontsize=12)\n",
        "    plt.ylabel('ROC-AUC', fontsize=12)\n",
        "    plt.legend(fontsize=12)\n",
        "    plt.grid(True)\n",
        "\n",
        "    # 4. Plot Learning Rate (if available)\n",
        "    if 'learning_rate' in history:\n",
        "        plt.subplot(2, 2, 4)\n",
        "        plt.plot(epochs, history['learning_rate'], 'b-', label='Learning Rate')\n",
        "        plt.title('Learning Rate Evolution', fontsize=14)\n",
        "        plt.xlabel('Epoch', fontsize=12)\n",
        "        plt.ylabel('Learning Rate', fontsize=12)\n",
        "        plt.legend(fontsize=12)\n",
        "        plt.grid(True)\n",
        "\n",
        "    plt.tight_layout()\n",
        "    plt.show()\n",
        "    plt.savefig('training_metrics.png')\n",
        "    plt.close()\n",
        "\n",
        "def plot_genre_distribution(nodes_df: pd.DataFrame, genre_columns: List[str]):\n",
        "    \"\"\"Plot genre distribution with improved visualization\"\"\"\n",
        "    genre_counts = {genre: nodes_df[genre].sum() for genre in genre_columns}\n",
        "\n",
        "    plt.figure(figsize=(15, 8))\n",
        "    bars = plt.bar(genre_counts.keys(), genre_counts.values())\n",
        "    plt.xticks(rotation=45, ha='right')\n",
        "    plt.title('Genre Distribution in Dataset', fontsize=14)\n",
        "    plt.xlabel('Genre', fontsize=12)\n",
        "    plt.ylabel('Number of Artists', fontsize=12)\n",
        "\n",
        "    # Add value labels on top of bars\n",
        "    for bar in bars:\n",
        "        height = bar.get_height()\n",
        "        plt.text(bar.get_x() + bar.get_width()/2., height,\n",
        "                f'{int(height):,}',\n",
        "                ha='center', va='bottom')\n",
        "\n",
        "    plt.tight_layout()\n",
        "    plt.show()\n",
        "    plt.savefig('genre_distribution.png')\n",
        "\n",
        "    plt.close()\n",
        "\n",
        "def plot_model_performance(model: HeterogeneousGNN,\n",
        "                        data: HeteroData,\n",
        "                        test_edges: torch.Tensor) -> Dict:\n",
        "    \"\"\"Plot comprehensive model performance metrics\"\"\"\n",
        "    model.eval()\n",
        "    device = next(model.parameters()).device\n",
        "\n",
        "    with torch.no_grad():\n",
        "        # Generate negative test edges\n",
        "        test_neg_edges = generate_negative_edges(data, test_edges.size(1))\n",
        "\n",
        "        # Get embeddings\n",
        "        embeddings = model(data.x_dict, data.edge_index_dict)\n",
        "\n",
        "        # Get predictions\n",
        "        pos_pred = model.predict_collaboration(embeddings, test_edges.t()).cpu()\n",
        "        neg_pred = model.predict_collaboration(embeddings, test_neg_edges.t()).cpu()\n",
        "\n",
        "        # Combine predictions and labels\n",
        "        pred = torch.cat([pos_pred, neg_pred])\n",
        "        labels = torch.cat([\n",
        "            torch.ones(pos_pred.size(0)),\n",
        "            torch.zeros(neg_pred.size(0))\n",
        "        ])\n",
        "\n",
        "        # Calculate metrics\n",
        "        roc_auc = roc_auc_score(labels, pred)\n",
        "        precision, recall, thresholds = precision_recall_curve(labels, pred)\n",
        "        avg_precision = average_precision_score(labels, pred)\n",
        "        f1 = f1_score(labels, (pred > 0.5).float())\n",
        "        conf_matrix = confusion_matrix(labels, (pred > 0.5).float())\n",
        "\n",
        "        # 1. Plot Precision-Recall Curve\n",
        "        plt.figure(figsize=(10, 8))\n",
        "        plt.plot(recall, precision, 'b-', label=f'AP={avg_precision:.2f}')\n",
        "        plt.title('Precision-Recall Curve', fontsize=14)\n",
        "        plt.xlabel('Recall', fontsize=12)\n",
        "        plt.ylabel('Precision', fontsize=12)\n",
        "        plt.legend(fontsize=12)\n",
        "        plt.grid(True)\n",
        "        plt.tight_layout()\n",
        "        plt.show()\n",
        "        plt.savefig('precision_recall_curve.png')\n",
        "        plt.close()\n",
        "\n",
        "        # Return metrics\n",
        "        return {\n",
        "            'roc_auc': roc_auc,\n",
        "            'average_precision': avg_precision,\n",
        "            'f1_score': f1,\n",
        "            'confusion_matrix': conf_matrix.tolist()\n",
        "        }\n",
        "\n",
        "def save_training_summary(history: Dict, metrics: Dict, predictions: List[Dict]):\n",
        "    \"\"\"Save comprehensive training results\"\"\"\n",
        "    results = {\n",
        "        'training_history': {\n",
        "            'train_loss': history['train_loss'],\n",
        "            'train_acc': history['train_acc'],\n",
        "            'val_loss': history['val_loss'],\n",
        "            'val_acc': history['val_acc'],\n",
        "            'val_roc_auc': history['val_roc_auc']\n",
        "        },\n",
        "        'final_metrics': {\n",
        "            'final_train_loss': history['train_loss'][-1],\n",
        "            'final_train_acc': history['train_acc'][-1],\n",
        "            'final_val_loss': history['val_loss'][-1],\n",
        "            'final_val_acc': history['val_acc'][-1],\n",
        "            'final_val_roc_auc': history['val_roc_auc'][-1],\n",
        "            'test_roc_auc': metrics['roc_auc'],\n",
        "            'test_avg_precision': metrics['average_precision'],\n",
        "            'test_f1_score': metrics['f1_score']\n",
        "        },\n",
        "        'predictions': predictions\n",
        "    }\n",
        "\n",
        "    with open('results.json', 'w') as f:\n",
        "        json.dump(results, f, indent=4)\n",
        "\n",
        "    return results"
      ],
      "metadata": {
        "id": "YsnA9Q2Hm2rt"
      },
      "execution_count": 44,
      "outputs": []
    },
    {
      "cell_type": "markdown",
      "source": [
        "# checking the device if it is in CPU or GPU"
      ],
      "metadata": {
        "id": "ELFgPuRmmaZu"
      }
    },
    {
      "cell_type": "code",
      "source": [
        "\"\"\"Main execution pipeline with improved error handling\"\"\"\n",
        "# Set up device\n",
        "device = torch.device('cuda' if torch.cuda.is_available() else 'cpu')\n",
        "print(f\"Using device: {device}\")"
      ],
      "metadata": {
        "colab": {
          "base_uri": "https://localhost:8080/"
        },
        "id": "aobAwNNZl0Zv",
        "outputId": "818b268d-03b8-44e1-c667-35be2a9da5f2"
      },
      "execution_count": 45,
      "outputs": [
        {
          "output_type": "stream",
          "name": "stdout",
          "text": [
            "Using device: cpu\n"
          ]
        }
      ]
    },
    {
      "cell_type": "markdown",
      "source": [
        "# Load and clean data with more lenient percentile-based filtering"
      ],
      "metadata": {
        "id": "J-uD2ea5mipf"
      }
    },
    {
      "cell_type": "code",
      "source": [
        "print(\"\\nLoading and cleaning data...\")\n",
        "nodes_df, edges_df, genre_columns = load_and_clean_data(\n",
        "    \"nodes_cleaned.csv\",\n",
        "    \"edges_cleaned.csv\",\n",
        "    min_followers_percentile=25\n",
        ")"
      ],
      "metadata": {
        "colab": {
          "base_uri": "https://localhost:8080/"
        },
        "id": "xGFEUz-ql4vn",
        "outputId": "ffbfd26a-689b-4640-a09f-feffc13b52dd"
      },
      "execution_count": 46,
      "outputs": [
        {
          "output_type": "stream",
          "name": "stdout",
          "text": [
            "\n",
            "Loading and cleaning data...\n",
            "Loading data files...\n",
            "\n",
            "Initial data stats:\n",
            "Total nodes: 143760\n",
            "Total edges: 266046\n",
            "\n",
            "Data distribution before cleaning:\n",
            "\n",
            "Followers statistics:\n",
            "count    143760.000000\n",
            "mean         -0.000199\n",
            "std           0.999293\n",
            "min          -0.091427\n",
            "25%          -0.091400\n",
            "50%          -0.091024\n",
            "75%          -0.084670\n",
            "max         105.588132\n",
            "Name: followers, dtype: float64\n",
            "\n",
            "Popularity statistics:\n",
            "count    143760.000000\n",
            "mean         -0.000854\n",
            "std           0.999537\n",
            "min          -1.166466\n",
            "25%          -0.948891\n",
            "50%          -0.132984\n",
            "75%           0.737316\n",
            "max           4.272911\n",
            "Name: popularity, dtype: float64\n",
            "\n",
            "Removed 35669 rows with followers below 25th percentile\n",
            "Removed 11721 rows with only unknown genre\n",
            "\n",
            "Final data stats:\n",
            "Final nodes: 96370\n",
            "Final edges: 186806\n",
            "Removed 79240 invalid edges\n",
            "\n",
            "Genre distribution after cleaning:\n",
            "alternative Indie: 2691\n",
            "classical_orchestral: 1144\n",
            "electronic: 5341\n",
            "folk world: 1311\n",
            "jazz: 957\n",
            "hip_hop: 11382\n",
            "latin: 846\n",
            "metal: 326\n",
            "pop: 15667\n",
            "randb_Soul: 3386\n",
            "reggae_dancehall: 900\n",
            "rock: 3794\n",
            "soundtrack: 346\n",
            "unknown: 11547\n"
          ]
        }
      ]
    },
    {
      "cell_type": "markdown",
      "source": [
        "# Validate data"
      ],
      "metadata": {
        "id": "PvpHNt1YmnWq"
      }
    },
    {
      "cell_type": "code",
      "source": [
        "required_columns = ['spotify_id', 'name', 'followers', 'popularity']\n",
        "if not DataValidator.validate_dataframe(nodes_df, required_columns):\n",
        "    raise ValueError(\"Data validation failed\")"
      ],
      "metadata": {
        "id": "aScyRlh7e6Ml"
      },
      "execution_count": 47,
      "outputs": []
    },
    {
      "cell_type": "markdown",
      "source": [
        "# Generate data report"
      ],
      "metadata": {
        "id": "anq22d8Bmp6p"
      }
    },
    {
      "cell_type": "code",
      "source": [
        "report = DataValidator.generate_data_report(nodes_df, edges_df, genre_columns)\n",
        "with open('data_report.json', 'w') as f:\n",
        "    json.dump(report, f, indent=4, default=str)\n"
      ],
      "metadata": {
        "id": "AnmyD5sfmCV5"
      },
      "execution_count": 49,
      "outputs": []
    },
    {
      "cell_type": "markdown",
      "source": [
        "# Plot genre distribution"
      ],
      "metadata": {
        "id": "eDk_XuUamr9B"
      }
    },
    {
      "cell_type": "code",
      "source": [
        "\n",
        "plot_genre_distribution(nodes_df, genre_columns)"
      ],
      "metadata": {
        "colab": {
          "base_uri": "https://localhost:8080/",
          "height": 807
        },
        "id": "5kRj5iPHnBMG",
        "outputId": "265cb9e2-03fd-4e47-a3a3-63ae8b019690"
      },
      "execution_count": 50,
      "outputs": [
        {
          "output_type": "display_data",
          "data": {
            "text/plain": [
              "<Figure size 1500x800 with 1 Axes>"
            ],
            "image/png": "[encoded data removed]"
          },
          "metadata": {}
        }
      ]
    },
    {
      "cell_type": "markdown",
      "source": [
        "# Preparing graph data..."
      ],
      "metadata": {
        "id": "PnuZVg_qmvcW"
      }
    },
    {
      "cell_type": "code",
      "source": [
        "print(\"\\nPreparing graph data...\")\n",
        "data = prepare_bipartite_data(nodes_df, edges_df, genre_columns)\n",
        "\n",
        "# Split edges for training\n",
        "all_edges = data['artist', 'collaborates', 'artist'].edge_index.t()\n",
        "train_edges, temp_edges = train_test_split(all_edges, test_size=0.3, random_state=42)\n",
        "val_edges, test_edges = train_test_split(temp_edges, test_size=0.5, random_state=42)\n",
        "\n",
        "model = HeterogeneousGNN(\n",
        "    artist_features=2,      # followers, popularity\n",
        "    genre_features=len(genre_columns),  # Use actual number of genres\n",
        "    hidden_channels=64\n",
        ").to(device)"
      ],
      "metadata": {
        "colab": {
          "base_uri": "https://localhost:8080/"
        },
        "id": "47hCWTCOmHLU",
        "outputId": "36ff90ba-8b65-4b3f-d650-cdb621460ce0"
      },
      "execution_count": 51,
      "outputs": [
        {
          "output_type": "stream",
          "name": "stdout",
          "text": [
            "\n",
            "Preparing graph data...\n",
            "\n",
            "Preparing graph data on cpu\n",
            "Created artist features tensor: torch.Size([96370, 2])\n",
            "Created genre features tensor: torch.Size([14, 14])\n",
            "\n",
            "Processing artist-genre relationships...\n"
          ]
        },
        {
          "output_type": "stream",
          "name": "stderr",
          "text": [
            "  1%|          | 708/96370 [00:00<00:13, 6891.64it/s]"
          ]
        },
        {
          "output_type": "stream",
          "name": "stdout",
          "text": [
            "Processed artist 0, genres: ['electronic', 'unknown']\n"
          ]
        },
        {
          "output_type": "stream",
          "name": "stderr",
          "text": [
            " 12%|█▏        | 11837/96370 [00:01<00:07, 12063.35it/s]"
          ]
        },
        {
          "output_type": "stream",
          "name": "stdout",
          "text": [
            "Processed artist 10000, genres: ['alternative Indie']\n"
          ]
        },
        {
          "output_type": "stream",
          "name": "stderr",
          "text": [
            " 44%|████▎     | 42099/96370 [00:04<00:05, 9812.10it/s]"
          ]
        },
        {
          "output_type": "stream",
          "name": "stdout",
          "text": [
            "Processed artist 40000, genres: ['reggae_dancehall']\n"
          ]
        },
        {
          "output_type": "stream",
          "name": "stderr",
          "text": [
            "100%|██████████| 96370/96370 [00:09<00:00, 10390.85it/s]\n"
          ]
        },
        {
          "output_type": "stream",
          "name": "stdout",
          "text": [
            "\n",
            "Created 59638 artist-genre edges\n",
            "\n",
            "Genre edge indices created successfully\n",
            "\n",
            "Valid collaboration edges: 186806\n",
            "\n",
            "Final graph statistics:\n",
            "Number of artists: 96370\n",
            "Number of genres: 14\n",
            "Number of artist-genre edges: 59638\n",
            "Number of collaboration edges: 186806\n"
          ]
        }
      ]
    },
    {
      "cell_type": "markdown",
      "source": [
        "# model training"
      ],
      "metadata": {
        "id": "wZlrRfopmyk5"
      }
    },
    {
      "cell_type": "code",
      "source": [
        "print(\"\\nTraining model...\")\n",
        "model, history = train_model(model, data, train_edges, val_edges)"
      ],
      "metadata": {
        "colab": {
          "base_uri": "https://localhost:8080/"
        },
        "id": "rfeS0pKmmLGR",
        "outputId": "7049f930-4739-4f3d-e4c0-2f6b58182683"
      },
      "execution_count": 52,
      "outputs": [
        {
          "output_type": "stream",
          "name": "stdout",
          "text": [
            "\n",
            "Training model...\n",
            "Training data size: torch.Size([130764, 2])\n",
            "Validation data size: torch.Size([28021, 2])\n",
            "Reshaped training edges: torch.Size([2, 130764])\n",
            "Reshaped validation edges: torch.Size([2, 28021])\n",
            "Using batch size: 128\n",
            "\n",
            "Starting training:\n",
            "Epoch | Batch | Train Loss | Train Acc | Val Loss | Val Acc | Val ROC-AUC\n",
            "---------------------------------------------------------------------------\n"
          ]
        },
        {
          "output_type": "stream",
          "name": "stderr",
          "text": [
            "Epoch 1/2: 100%|██████████| 1022/1022 [1:12:48<00:00,  4.27s/it, loss=1.3932, acc=0.4539]\n"
          ]
        },
        {
          "output_type": "stream",
          "name": "stdout",
          "text": [
            "    1 |  1022 | 1.3903 | 0.4985 | 0.6928 | 0.5399 | 0.5318\n"
          ]
        },
        {
          "output_type": "stream",
          "name": "stderr",
          "text": [
            "Epoch 2/2: 100%|██████████| 1022/1022 [1:12:42<00:00,  4.27s/it, loss=1.3852, acc=0.4868]\n"
          ]
        },
        {
          "output_type": "stream",
          "name": "stdout",
          "text": [
            "    2 |  1022 | 1.3868 | 0.4995 | 0.6915 | 0.6128 | 0.6898\n",
            "\n",
            "Training completed!\n",
            "Best validation ROC-AUC: 0.6898417765950264\n",
            "\n",
            "Final metrics:\n",
            "Train Loss: 1.3868\n",
            "Train Accuracy: 0.4995\n",
            "Validation Loss: 0.6915\n",
            "Validation Accuracy: 0.6128\n",
            "Validation ROC-AUC: 0.6898\n"
          ]
        }
      ]
    },
    {
      "cell_type": "markdown",
      "source": [
        "# Plot metrics"
      ],
      "metadata": {
        "id": "6kqjGv8Ym4Yx"
      }
    },
    {
      "cell_type": "code",
      "source": [
        "plot_training_metrics(history)"
      ],
      "metadata": {
        "colab": {
          "base_uri": "https://localhost:8080/",
          "height": 1000
        },
        "id": "d-N3Ww57mPBD",
        "outputId": "298b5dda-862f-4892-bd38-f4e3ec7b8642"
      },
      "execution_count": 53,
      "outputs": [
        {
          "output_type": "display_data",
          "data": {
            "text/plain": [
              "<Figure size 2000x1500 with 3 Axes>"
            ],
            "image/png": "[encoded data removed]"
          },
          "metadata": {}
        }
      ]
    },
    {
      "cell_type": "markdown",
      "source": [
        "# Evaluate model and plot performance"
      ],
      "metadata": {
        "id": "4AIwDPGGnAcb"
      }
    },
    {
      "cell_type": "code",
      "source": [
        "from sklearn.metrics import roc_auc_score, f1_score, confusion_matrix, precision_recall_curve, average_precision_score\n",
        "\n",
        "\n",
        "print(\"\\nEvaluating model performance...\")\n",
        "metrics = plot_model_performance(model, data, test_edges)\n",
        "\n",
        "print(f\"Test ROC-AUC: {metrics['roc_auc']:.4f}\")\n",
        "print(f\"Test Average Precision: {metrics['average_precision']:.4f}\")\n",
        "print(f\"Test F1 Score: {metrics['f1_score']:.4f}\")"
      ],
      "metadata": {
        "colab": {
          "base_uri": "https://localhost:8080/",
          "height": 894
        },
        "id": "8dMiM86xnPyZ",
        "outputId": "a92a89d4-7caf-4f7a-a583-bf3afbd41abf"
      },
      "execution_count": 54,
      "outputs": [
        {
          "output_type": "stream",
          "name": "stdout",
          "text": [
            "\n",
            "Evaluating model performance...\n"
          ]
        },
        {
          "output_type": "display_data",
          "data": {
            "text/plain": [
              "<Figure size 1000x800 with 1 Axes>"
            ],
            "image/png": "[encoded data removed]"
          },
          "metadata": {}
        },
        {
          "output_type": "stream",
          "name": "stdout",
          "text": [
            "Test ROC-AUC: 1.0000\n",
            "Test Average Precision: 1.0000\n",
            "Test F1 Score: 0.8000\n"
          ]
        }
      ]
    },
    {
      "cell_type": "markdown",
      "source": [
        "# Generate predictions"
      ],
      "metadata": {
        "id": "VRJeTptKnE4T"
      }
    },
    {
      "cell_type": "code",
      "source": [
        "print(\"\\nGenerating collaboration predictions...\")\n",
        "predictions = predict_new_collaborations(\n",
        "    model,\n",
        "    data,\n",
        "    nodes_df,\n",
        "    num_predictions=10,\n",
        "    sample_size=5000,\n",
        "    min_popularity=0.3\n",
        ")"
      ],
      "metadata": {
        "colab": {
          "base_uri": "https://localhost:8080/"
        },
        "id": "x1T7BpPQmSjI",
        "outputId": "e4e60f2b-4ce4-43bf-a8c7-7a9e73aed223"
      },
      "execution_count": 55,
      "outputs": [
        {
          "output_type": "stream",
          "name": "stdout",
          "text": [
            "\n",
            "Generating collaboration predictions...\n",
            "Computing embeddings...\n",
            "Filtering artists by popularity...\n",
            "Found 47119 artists above popularity threshold\n",
            "Sampling potential pairs...\n"
          ]
        },
        {
          "output_type": "stream",
          "name": "stderr",
          "text": [
            "Sampling artist pairs: 100%|██████████| 5000/5000 [00:00<00:00, 7765.08it/s]\n"
          ]
        },
        {
          "output_type": "stream",
          "name": "stdout",
          "text": [
            "Processing 5000 potential pairs...\n"
          ]
        },
        {
          "output_type": "stream",
          "name": "stderr",
          "text": [
            "Computing scores: 100%|██████████| 10/10 [00:00<00:00, 1192.27it/s]\n"
          ]
        },
        {
          "output_type": "stream",
          "name": "stdout",
          "text": [
            "Finding top predictions...\n",
            "Formatting predictions...\n",
            "[{'artist1': 'Waka Flocka Flame', 'artist2': 'Michael Feiner', 'score': 0.5107060670852661, 'artist1_popularity': 2.3691293009145813, 'artist2_popularity': 0.3021658720975937, 'genres': []}]\n",
            "[{'artist1': 'Waka Flocka Flame', 'artist2': 'Michael Feiner', 'score': 0.5107060670852661, 'artist1_popularity': 2.3691293009145813, 'artist2_popularity': 0.3021658720975937, 'genres': []}, {'artist1': 'Chris Stapleton', 'artist2': 'Polo G', 'score': 0.5089218616485596, 'artist1_popularity': 2.967460819782657, 'artist2_popularity': 3.348217240880523, 'genres': []}]\n",
            "[{'artist1': 'Waka Flocka Flame', 'artist2': 'Michael Feiner', 'score': 0.5107060670852661, 'artist1_popularity': 2.3691293009145813, 'artist2_popularity': 0.3021658720975937, 'genres': []}, {'artist1': 'Chris Stapleton', 'artist2': 'Polo G', 'score': 0.5089218616485596, 'artist1_popularity': 2.967460819782657, 'artist2_popularity': 3.348217240880523, 'genres': []}, {'artist1': 'Baby Keem', 'artist2': 'Booka600', 'score': 0.5074398517608643, 'artist1_popularity': 3.0762483686677617, 'artist2_popularity': 1.607616458718849, 'genres': ['hip_hop']}]\n",
            "[{'artist1': 'Waka Flocka Flame', 'artist2': 'Michael Feiner', 'score': 0.5107060670852661, 'artist1_popularity': 2.3691293009145813, 'artist2_popularity': 0.3021658720975937, 'genres': []}, {'artist1': 'Chris Stapleton', 'artist2': 'Polo G', 'score': 0.5089218616485596, 'artist1_popularity': 2.967460819782657, 'artist2_popularity': 3.348217240880523, 'genres': []}, {'artist1': 'Baby Keem', 'artist2': 'Booka600', 'score': 0.5074398517608643, 'artist1_popularity': 3.0762483686677617, 'artist2_popularity': 1.607616458718849, 'genres': ['hip_hop']}, {'artist1': 'Cdot Honcho', 'artist2': 'Janet Jackson', 'score': 0.5073295831680298, 'artist1_popularity': 0.7917098420805645, 'artist2_popularity': 2.3691293009145813, 'genres': ['unknown']}]\n",
            "[{'artist1': 'Waka Flocka Flame', 'artist2': 'Michael Feiner', 'score': 0.5107060670852661, 'artist1_popularity': 2.3691293009145813, 'artist2_popularity': 0.3021658720975937, 'genres': []}, {'artist1': 'Chris Stapleton', 'artist2': 'Polo G', 'score': 0.5089218616485596, 'artist1_popularity': 2.967460819782657, 'artist2_popularity': 3.348217240880523, 'genres': []}, {'artist1': 'Baby Keem', 'artist2': 'Booka600', 'score': 0.5074398517608643, 'artist1_popularity': 3.0762483686677617, 'artist2_popularity': 1.607616458718849, 'genres': ['hip_hop']}, {'artist1': 'Cdot Honcho', 'artist2': 'Janet Jackson', 'score': 0.5073295831680298, 'artist1_popularity': 0.7917098420805645, 'artist2_popularity': 2.3691293009145813, 'genres': ['unknown']}, {'artist1': 'Polaco', 'artist2': 'Gudda Gudda', 'score': 0.5071436762809753, 'artist1_popularity': 0.8461036165231168, 'artist2_popularity': 1.1724662631784306, 'genres': ['unknown', 'hip_hop']}]\n",
            "[{'artist1': 'Waka Flocka Flame', 'artist2': 'Michael Feiner', 'score': 0.5107060670852661, 'artist1_popularity': 2.3691293009145813, 'artist2_popularity': 0.3021658720975937, 'genres': []}, {'artist1': 'Chris Stapleton', 'artist2': 'Polo G', 'score': 0.5089218616485596, 'artist1_popularity': 2.967460819782657, 'artist2_popularity': 3.348217240880523, 'genres': []}, {'artist1': 'Baby Keem', 'artist2': 'Booka600', 'score': 0.5074398517608643, 'artist1_popularity': 3.0762483686677617, 'artist2_popularity': 1.607616458718849, 'genres': ['hip_hop']}, {'artist1': 'Cdot Honcho', 'artist2': 'Janet Jackson', 'score': 0.5073295831680298, 'artist1_popularity': 0.7917098420805645, 'artist2_popularity': 2.3691293009145813, 'genres': ['unknown']}, {'artist1': 'Polaco', 'artist2': 'Gudda Gudda', 'score': 0.5071436762809753, 'artist1_popularity': 0.8461036165231168, 'artist2_popularity': 1.1724662631784306, 'genres': ['unknown', 'hip_hop']}, {'artist1': 'Blaq Jerzee', 'artist2': 'Nicky Romero', 'score': 0.5071160197257996, 'artist1_popularity': 1.5532226842762968, 'artist2_popularity': 2.3147355264720293, 'genres': ['pop']}]\n",
            "[{'artist1': 'Waka Flocka Flame', 'artist2': 'Michael Feiner', 'score': 0.5107060670852661, 'artist1_popularity': 2.3691293009145813, 'artist2_popularity': 0.3021658720975937, 'genres': []}, {'artist1': 'Chris Stapleton', 'artist2': 'Polo G', 'score': 0.5089218616485596, 'artist1_popularity': 2.967460819782657, 'artist2_popularity': 3.348217240880523, 'genres': []}, {'artist1': 'Baby Keem', 'artist2': 'Booka600', 'score': 0.5074398517608643, 'artist1_popularity': 3.0762483686677617, 'artist2_popularity': 1.607616458718849, 'genres': ['hip_hop']}, {'artist1': 'Cdot Honcho', 'artist2': 'Janet Jackson', 'score': 0.5073295831680298, 'artist1_popularity': 0.7917098420805645, 'artist2_popularity': 2.3691293009145813, 'genres': ['unknown']}, {'artist1': 'Polaco', 'artist2': 'Gudda Gudda', 'score': 0.5071436762809753, 'artist1_popularity': 0.8461036165231168, 'artist2_popularity': 1.1724662631784306, 'genres': ['unknown', 'hip_hop']}, {'artist1': 'Blaq Jerzee', 'artist2': 'Nicky Romero', 'score': 0.5071160197257996, 'artist1_popularity': 1.5532226842762968, 'artist2_popularity': 2.3147355264720293, 'genres': ['pop']}, {'artist1': 'Big Gigantic', 'artist2': 'Flipmode Squad', 'score': 0.5069889426231384, 'artist1_popularity': 1.8795853309316104, 'artist2_popularity': 1.8795853309316104, 'genres': []}]\n",
            "[{'artist1': 'Waka Flocka Flame', 'artist2': 'Michael Feiner', 'score': 0.5107060670852661, 'artist1_popularity': 2.3691293009145813, 'artist2_popularity': 0.3021658720975937, 'genres': []}, {'artist1': 'Chris Stapleton', 'artist2': 'Polo G', 'score': 0.5089218616485596, 'artist1_popularity': 2.967460819782657, 'artist2_popularity': 3.348217240880523, 'genres': []}, {'artist1': 'Baby Keem', 'artist2': 'Booka600', 'score': 0.5074398517608643, 'artist1_popularity': 3.0762483686677617, 'artist2_popularity': 1.607616458718849, 'genres': ['hip_hop']}, {'artist1': 'Cdot Honcho', 'artist2': 'Janet Jackson', 'score': 0.5073295831680298, 'artist1_popularity': 0.7917098420805645, 'artist2_popularity': 2.3691293009145813, 'genres': ['unknown']}, {'artist1': 'Polaco', 'artist2': 'Gudda Gudda', 'score': 0.5071436762809753, 'artist1_popularity': 0.8461036165231168, 'artist2_popularity': 1.1724662631784306, 'genres': ['unknown', 'hip_hop']}, {'artist1': 'Blaq Jerzee', 'artist2': 'Nicky Romero', 'score': 0.5071160197257996, 'artist1_popularity': 1.5532226842762968, 'artist2_popularity': 2.3147355264720293, 'genres': ['pop']}, {'artist1': 'Big Gigantic', 'artist2': 'Flipmode Squad', 'score': 0.5069889426231384, 'artist1_popularity': 1.8795853309316104, 'artist2_popularity': 1.8795853309316104, 'genres': []}, {'artist1': 'Willy Northpole', 'artist2': 'Shiraz', 'score': 0.5061208009719849, 'artist1_popularity': 0.4109534209826983, 'artist2_popularity': 0.7373160676380122, 'genres': ['hip_hop']}]\n",
            "[{'artist1': 'Waka Flocka Flame', 'artist2': 'Michael Feiner', 'score': 0.5107060670852661, 'artist1_popularity': 2.3691293009145813, 'artist2_popularity': 0.3021658720975937, 'genres': []}, {'artist1': 'Chris Stapleton', 'artist2': 'Polo G', 'score': 0.5089218616485596, 'artist1_popularity': 2.967460819782657, 'artist2_popularity': 3.348217240880523, 'genres': []}, {'artist1': 'Baby Keem', 'artist2': 'Booka600', 'score': 0.5074398517608643, 'artist1_popularity': 3.0762483686677617, 'artist2_popularity': 1.607616458718849, 'genres': ['hip_hop']}, {'artist1': 'Cdot Honcho', 'artist2': 'Janet Jackson', 'score': 0.5073295831680298, 'artist1_popularity': 0.7917098420805645, 'artist2_popularity': 2.3691293009145813, 'genres': ['unknown']}, {'artist1': 'Polaco', 'artist2': 'Gudda Gudda', 'score': 0.5071436762809753, 'artist1_popularity': 0.8461036165231168, 'artist2_popularity': 1.1724662631784306, 'genres': ['unknown', 'hip_hop']}, {'artist1': 'Blaq Jerzee', 'artist2': 'Nicky Romero', 'score': 0.5071160197257996, 'artist1_popularity': 1.5532226842762968, 'artist2_popularity': 2.3147355264720293, 'genres': ['pop']}, {'artist1': 'Big Gigantic', 'artist2': 'Flipmode Squad', 'score': 0.5069889426231384, 'artist1_popularity': 1.8795853309316104, 'artist2_popularity': 1.8795853309316104, 'genres': []}, {'artist1': 'Willy Northpole', 'artist2': 'Shiraz', 'score': 0.5061208009719849, 'artist1_popularity': 0.4109534209826983, 'artist2_popularity': 0.7373160676380122, 'genres': ['hip_hop']}, {'artist1': 'Yandel', 'artist2': 'MHD', 'score': 0.5056236982345581, 'artist1_popularity': 2.9130670453401044, 'artist2_popularity': 2.260341752029477, 'genres': ['unknown', 'hip_hop']}]\n",
            "[{'artist1': 'Waka Flocka Flame', 'artist2': 'Michael Feiner', 'score': 0.5107060670852661, 'artist1_popularity': 2.3691293009145813, 'artist2_popularity': 0.3021658720975937, 'genres': []}, {'artist1': 'Chris Stapleton', 'artist2': 'Polo G', 'score': 0.5089218616485596, 'artist1_popularity': 2.967460819782657, 'artist2_popularity': 3.348217240880523, 'genres': []}, {'artist1': 'Baby Keem', 'artist2': 'Booka600', 'score': 0.5074398517608643, 'artist1_popularity': 3.0762483686677617, 'artist2_popularity': 1.607616458718849, 'genres': ['hip_hop']}, {'artist1': 'Cdot Honcho', 'artist2': 'Janet Jackson', 'score': 0.5073295831680298, 'artist1_popularity': 0.7917098420805645, 'artist2_popularity': 2.3691293009145813, 'genres': ['unknown']}, {'artist1': 'Polaco', 'artist2': 'Gudda Gudda', 'score': 0.5071436762809753, 'artist1_popularity': 0.8461036165231168, 'artist2_popularity': 1.1724662631784306, 'genres': ['unknown', 'hip_hop']}, {'artist1': 'Blaq Jerzee', 'artist2': 'Nicky Romero', 'score': 0.5071160197257996, 'artist1_popularity': 1.5532226842762968, 'artist2_popularity': 2.3147355264720293, 'genres': ['pop']}, {'artist1': 'Big Gigantic', 'artist2': 'Flipmode Squad', 'score': 0.5069889426231384, 'artist1_popularity': 1.8795853309316104, 'artist2_popularity': 1.8795853309316104, 'genres': []}, {'artist1': 'Willy Northpole', 'artist2': 'Shiraz', 'score': 0.5061208009719849, 'artist1_popularity': 0.4109534209826983, 'artist2_popularity': 0.7373160676380122, 'genres': ['hip_hop']}, {'artist1': 'Yandel', 'artist2': 'MHD', 'score': 0.5056236982345581, 'artist1_popularity': 2.9130670453401044, 'artist2_popularity': 2.260341752029477, 'genres': ['unknown', 'hip_hop']}, {'artist1': 'Chris Stapleton', 'artist2': 'DJ Criswell', 'score': 0.5056112408638, 'artist1_popularity': 2.967460819782657, 'artist2_popularity': 0.6285285187529076, 'genres': []}]\n",
            "Generated 10 predictions\n"
          ]
        }
      ]
    },
    {
      "cell_type": "markdown",
      "source": [
        "# Save comprehensive results"
      ],
      "metadata": {
        "id": "_3sq67_OnI8Z"
      }
    },
    {
      "cell_type": "code",
      "source": [
        "results = save_training_summary(history, metrics, predictions)\n",
        "\n",
        "print(\"\\nResults have been saved to:\")\n",
        "print(\"1. training_metrics.png - Training progress visualization\")\n",
        "print(\"2. genre_distribution.png - Distribution of genres\")\n",
        "print(\"3. confusion_matrix.png - Model performance visualization\")\n",
        "print(\"4. precision_recall_curve.png - Model precision-recall curve\")\n",
        "print(\"5. results.json - Detailed results and predictions\")\n",
        "print(\"6. data_report.json - Data statistics and analysis\")"
      ],
      "metadata": {
        "colab": {
          "base_uri": "https://localhost:8080/"
        },
        "id": "-8iSmtfEnXux",
        "outputId": "fecdc662-be3d-453f-c8b0-0f5b587b78b8"
      },
      "execution_count": 56,
      "outputs": [
        {
          "output_type": "stream",
          "name": "stdout",
          "text": [
            "\n",
            "Results have been saved to:\n",
            "1. training_metrics.png - Training progress visualization\n",
            "2. genre_distribution.png - Distribution of genres\n",
            "3. confusion_matrix.png - Model performance visualization\n",
            "4. precision_recall_curve.png - Model precision-recall curve\n",
            "5. results.json - Detailed results and predictions\n",
            "6. data_report.json - Data statistics and analysis\n"
          ]
        }
      ]
    },
    {
      "cell_type": "markdown",
      "source": [
        "# Save results"
      ],
      "metadata": {
        "id": "9YCX5fZdnLma"
      }
    },
    {
      "cell_type": "code",
      "source": [
        "\n",
        "results = {\n",
        "    'model_performance': {\n",
        "        'final_train_loss': history['train_loss'][-1],\n",
        "        'final_val_loss': history['val_loss'][-1],\n",
        "        'final_val_roc_auc': history['val_roc_auc'][-1]\n",
        "    },\n",
        "    'predictions': predictions\n",
        "}\n",
        "\n",
        "with open('results.json', 'w') as f:\n",
        "    json.dump(results, f, indent=4)\n",
        "\n",
        "print(\"\\nResults saved successfully!\")"
      ],
      "metadata": {
        "colab": {
          "base_uri": "https://localhost:8080/"
        },
        "id": "MmSpj_eymWpk",
        "outputId": "912ce852-bab5-42e5-f07e-e0f65e8b7aab"
      },
      "execution_count": 57,
      "outputs": [
        {
          "output_type": "stream",
          "name": "stdout",
          "text": [
            "\n",
            "Results saved successfully!\n"
          ]
        }
      ]
    }
  ]
}