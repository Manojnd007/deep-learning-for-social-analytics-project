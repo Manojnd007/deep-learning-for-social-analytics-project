{
 "cells": [
  {
   "cell_type": "code",
   "execution_count": 1,
   "id": "fe877f6f",
   "metadata": {},
   "outputs": [],
   "source": [
    "import os \n",
    "import json\n",
    "import pandas as pd\n",
    "import seaborn as sns\n",
    "import matplotlib.pyplot as plt\n",
    "from pandasql import sqldf\n",
    "import numpy as np\n",
    "import nltk\n",
    "import re\n",
    "from wordcloud import WordCloud"
   ]
  },
  {
   "cell_type": "code",
   "execution_count": 2,
   "id": "40d45ef0-0fd0-4d8b-babb-585de7e37a5e",
   "metadata": {},
   "outputs": [],
   "source": [
    "nodes = pd.read_csv('/home/manoj/tuhh/data_science_3rd_sem/deep_learning_for_social_analytics/project/deep-learning-for-social-analytics-project/cleaned_datasets/nodes.csv')\n",
    "edges = pd.read_csv('/home/manoj/tuhh/data_science_3rd_sem/deep_learning_for_social_analytics/project/deep-learning-for-social-analytics-project/cleaned_datasets/edges.csv')"
   ]
  },
  {
   "cell_type": "code",
   "execution_count": 3,
   "id": "0f46b4ec-4229-461f-8394-3184aa5425eb",
   "metadata": {},
   "outputs": [
    {
     "data": {
      "text/html": [
       "<div>\n",
       "<style scoped>\n",
       "    .dataframe tbody tr th:only-of-type {\n",
       "        vertical-align: middle;\n",
       "    }\n",
       "\n",
       "    .dataframe tbody tr th {\n",
       "        vertical-align: top;\n",
       "    }\n",
       "\n",
       "    .dataframe thead th {\n",
       "        text-align: right;\n",
       "    }\n",
       "</style>\n",
       "<table border=\"1\" class=\"dataframe\">\n",
       "  <thead>\n",
       "    <tr style=\"text-align: right;\">\n",
       "      <th></th>\n",
       "      <th>id_0</th>\n",
       "      <th>id_1</th>\n",
       "    </tr>\n",
       "  </thead>\n",
       "  <tbody>\n",
       "    <tr>\n",
       "      <th>0</th>\n",
       "      <td>76M2Ekj8bG8W7X2nbx2CpF</td>\n",
       "      <td>7sfl4Xt5KmfyDs2T3SVSMK</td>\n",
       "    </tr>\n",
       "    <tr>\n",
       "      <th>1</th>\n",
       "      <td>0hk4xVujcyOr6USD95wcWb</td>\n",
       "      <td>7Do8se3ZoaVqUt3woqqSrD</td>\n",
       "    </tr>\n",
       "    <tr>\n",
       "      <th>2</th>\n",
       "      <td>38jpuy3yt3QIxQ8Fn1HTeJ</td>\n",
       "      <td>4csQIMQm6vI2A2SCVDuM2z</td>\n",
       "    </tr>\n",
       "    <tr>\n",
       "      <th>3</th>\n",
       "      <td>6PvcxssrQ0QaJVaBWHD07l</td>\n",
       "      <td>6UCQYrcJ6wab6gnQ89OJFh</td>\n",
       "    </tr>\n",
       "    <tr>\n",
       "      <th>4</th>\n",
       "      <td>2R1QrQqWuw3IjoP5dXRFjt</td>\n",
       "      <td>4mk1ScvOUkuQzzCZpT6bc0</td>\n",
       "    </tr>\n",
       "    <tr>\n",
       "      <th>5</th>\n",
       "      <td>0k70gnDBLPirCltbTzoxuM</td>\n",
       "      <td>5FK3qokBQYxr7ZLkr8GVFn</td>\n",
       "    </tr>\n",
       "    <tr>\n",
       "      <th>6</th>\n",
       "      <td>1bAftSH8umNcGZ0uyV7LMg</td>\n",
       "      <td>1vqR17Iv8VFdzure1TAXEq</td>\n",
       "    </tr>\n",
       "    <tr>\n",
       "      <th>7</th>\n",
       "      <td>21ey6s5hEcTcVKDrF5MWby</td>\n",
       "      <td>7uMh23xWiuR7zsNkuNcm2G</td>\n",
       "    </tr>\n",
       "    <tr>\n",
       "      <th>8</th>\n",
       "      <td>1mYsTxnqsietFxj1OgoGbG</td>\n",
       "      <td>7snhzmuew8iLEDxMIhOU1P</td>\n",
       "    </tr>\n",
       "    <tr>\n",
       "      <th>9</th>\n",
       "      <td>3GBBxBdoolb0B5YizZq9bF</td>\n",
       "      <td>3yayE6rrovGcNkMManKwVf</td>\n",
       "    </tr>\n",
       "  </tbody>\n",
       "</table>\n",
       "</div>"
      ],
      "text/plain": [
       "                     id_0                    id_1\n",
       "0  76M2Ekj8bG8W7X2nbx2CpF  7sfl4Xt5KmfyDs2T3SVSMK\n",
       "1  0hk4xVujcyOr6USD95wcWb  7Do8se3ZoaVqUt3woqqSrD\n",
       "2  38jpuy3yt3QIxQ8Fn1HTeJ  4csQIMQm6vI2A2SCVDuM2z\n",
       "3  6PvcxssrQ0QaJVaBWHD07l  6UCQYrcJ6wab6gnQ89OJFh\n",
       "4  2R1QrQqWuw3IjoP5dXRFjt  4mk1ScvOUkuQzzCZpT6bc0\n",
       "5  0k70gnDBLPirCltbTzoxuM  5FK3qokBQYxr7ZLkr8GVFn\n",
       "6  1bAftSH8umNcGZ0uyV7LMg  1vqR17Iv8VFdzure1TAXEq\n",
       "7  21ey6s5hEcTcVKDrF5MWby  7uMh23xWiuR7zsNkuNcm2G\n",
       "8  1mYsTxnqsietFxj1OgoGbG  7snhzmuew8iLEDxMIhOU1P\n",
       "9  3GBBxBdoolb0B5YizZq9bF  3yayE6rrovGcNkMManKwVf"
      ]
     },
     "execution_count": 3,
     "metadata": {},
     "output_type": "execute_result"
    }
   ],
   "source": [
    "edges.head(10)"
   ]
  },
  {
   "cell_type": "code",
   "execution_count": 4,
   "id": "d16b4b5f-baf3-4e61-9aad-9c5bab6c8c60",
   "metadata": {},
   "outputs": [
    {
     "data": {
      "text/plain": [
       "id_0    object\n",
       "id_1    object\n",
       "dtype: object"
      ]
     },
     "execution_count": 4,
     "metadata": {},
     "output_type": "execute_result"
    }
   ],
   "source": [
    "edges.dtypes"
   ]
  },
  {
   "cell_type": "code",
   "execution_count": 5,
   "id": "53cc5c13-ed83-497b-8cff-9c236af37b4b",
   "metadata": {},
   "outputs": [
    {
     "name": "stdout",
     "output_type": "stream",
     "text": [
      "                          id_0                    id_1  \\\n",
      "0       76M2Ekj8bG8W7X2nbx2CpF  7sfl4Xt5KmfyDs2T3SVSMK   \n",
      "1       0hk4xVujcyOr6USD95wcWb  7Do8se3ZoaVqUt3woqqSrD   \n",
      "2       38jpuy3yt3QIxQ8Fn1HTeJ  4csQIMQm6vI2A2SCVDuM2z   \n",
      "3       6PvcxssrQ0QaJVaBWHD07l  6UCQYrcJ6wab6gnQ89OJFh   \n",
      "4       2R1QrQqWuw3IjoP5dXRFjt  4mk1ScvOUkuQzzCZpT6bc0   \n",
      "...                        ...                     ...   \n",
      "300381  0PK0Dx3s9et0Uf4XbdFpiW  6SmpksRq3jxeDZ7roKDb6F   \n",
      "300382  5hqRsNHDZH1jHzI9LgxFRZ  7KYseTkErcYMRvcIqacxUq   \n",
      "300383  0wjb0t7aYMuIwyuXnPOilh  2p1fiYHYiXz9qi0JJyxBzN   \n",
      "300384  3ciRvbBIVz9fBoPbtSYq4x  5einkgXXrjhfYCyac1FANB   \n",
      "300385  25uiPmTg16RbhZWAqwLBy5  3Xt3RrJMFv5SZkCfUE8C1J   \n",
      "\n",
      "                            artist_0      artist_1  \n",
      "0                            NGHTMRE       Lil Jon  \n",
      "1                          Sick Luke       MACHETE  \n",
      "2                            Mat.Joe  Hayden James  \n",
      "3                           Lp2loose    Headie One  \n",
      "4                    Marlon Roudette        Stadic  \n",
      "...                              ...           ...  \n",
      "300381                  Sons Of Zion   Sid Diamond  \n",
      "300382                       Filipek     clearmind  \n",
      "300383                         Lay-Z        Skepta  \n",
      "300384  Lil Jon & The East Side Boyz   Lil Scrappy  \n",
      "300385                    Charli XCX    Kim Petras  \n",
      "\n",
      "[300386 rows x 4 columns]\n"
     ]
    }
   ],
   "source": [
    "\n",
    "#mapping of spotify_id to artist name\n",
    "spotify_to_artist = dict(zip(nodes['spotify_id'], nodes['name']))\n",
    "\n",
    "def get_artist_name(spotify_id):\n",
    "    return spotify_to_artist.get(spotify_id, None)\n",
    "\n",
    "# Create artist_0 and artist_1 columns\n",
    "edges['artist_0'] = edges['id_0'].apply(get_artist_name)\n",
    "edges['artist_1'] = edges['id_1'].apply(get_artist_name)\n",
    "\n",
    "# Show the resulting DataFrame\n",
    "print(edges)"
   ]
  },
  {
   "cell_type": "code",
   "execution_count": 6,
   "id": "408b3220-726f-4e56-8ba3-b89b6e6f7058",
   "metadata": {},
   "outputs": [
    {
     "data": {
      "text/plain": [
       "id_0         0\n",
       "id_1         0\n",
       "artist_0    27\n",
       "artist_1    37\n",
       "dtype: int64"
      ]
     },
     "execution_count": 6,
     "metadata": {},
     "output_type": "execute_result"
    }
   ],
   "source": [
    "edges.isnull().sum()"
   ]
  },
  {
   "cell_type": "code",
   "execution_count": 7,
   "id": "0b4c3b55-aba2-4cf9-862a-2d99a7019a5f",
   "metadata": {},
   "outputs": [
    {
     "name": "stdout",
     "output_type": "stream",
     "text": [
      "                         id_0                    id_1        artist_0  \\\n",
      "4708   4oPYazJJ1o4rWBrTw9lm40  7dNIRCWywqv5vRd1PbWjRc             NaN   \n",
      "7186   0Dd8AchLVLMRRwSgdOC8GA  4oPYazJJ1o4rWBrTw9lm40            Abde   \n",
      "31904  4oPYazJJ1o4rWBrTw9lm40  5whGuKD31W4JkMx2PzJPL1             NaN   \n",
      "34402  3KNZ9AOjBajjmr6ZR2VGfl  4oPYazJJ1o4rWBrTw9lm40         Il Divo   \n",
      "36613  4oPYazJJ1o4rWBrTw9lm40  67Hs5BjNGLgaOt8Ib7AVgD             NaN   \n",
      "37015  1zljdzY4Ike09mbUIdov4L  4oPYazJJ1o4rWBrTw9lm40            JACK   \n",
      "57047  3kCG4giKb7h5623JYYWIyy  4oPYazJJ1o4rWBrTw9lm40  P.A.P BEATBAND   \n",
      "73132  4oPYazJJ1o4rWBrTw9lm40  5ESWq6xSEW2MEqX6CLk99J             NaN   \n",
      "82478  4BKu9DZcJznVjN2kIZW7f5  4oPYazJJ1o4rWBrTw9lm40      DEN-CHICHA   \n",
      "82735  2gsNwMM3GFKuZFZQtZqRit  4oPYazJJ1o4rWBrTw9lm40            Pune   \n",
      "\n",
      "             artist_1  \n",
      "4708           S!nner  \n",
      "7186              NaN  \n",
      "31904       Rezo Mind  \n",
      "34402             NaN  \n",
      "36613     Local Vocal  \n",
      "37015             NaN  \n",
      "57047             NaN  \n",
      "73132  Prettee Unique  \n",
      "82478             NaN  \n",
      "82735             NaN  \n"
     ]
    }
   ],
   "source": [
    "null_rows = edges[edges['artist_0'].isnull() | edges['artist_1'].isnull()]\n",
    "\n",
    "# Display rows with nulls\n",
    "print(null_rows.head(10))"
   ]
  },
  {
   "cell_type": "code",
   "execution_count": 8,
   "id": "c2b0741c-88e6-44c9-a5a2-a1376ec2c234",
   "metadata": {},
   "outputs": [
    {
     "name": "stdout",
     "output_type": "stream",
     "text": [
      "                          id_0                    id_1  \\\n",
      "0       76M2Ekj8bG8W7X2nbx2CpF  7sfl4Xt5KmfyDs2T3SVSMK   \n",
      "1       0hk4xVujcyOr6USD95wcWb  7Do8se3ZoaVqUt3woqqSrD   \n",
      "2       38jpuy3yt3QIxQ8Fn1HTeJ  4csQIMQm6vI2A2SCVDuM2z   \n",
      "3       6PvcxssrQ0QaJVaBWHD07l  6UCQYrcJ6wab6gnQ89OJFh   \n",
      "4       2R1QrQqWuw3IjoP5dXRFjt  4mk1ScvOUkuQzzCZpT6bc0   \n",
      "...                        ...                     ...   \n",
      "300381  0PK0Dx3s9et0Uf4XbdFpiW  6SmpksRq3jxeDZ7roKDb6F   \n",
      "300382  5hqRsNHDZH1jHzI9LgxFRZ  7KYseTkErcYMRvcIqacxUq   \n",
      "300383  0wjb0t7aYMuIwyuXnPOilh  2p1fiYHYiXz9qi0JJyxBzN   \n",
      "300384  3ciRvbBIVz9fBoPbtSYq4x  5einkgXXrjhfYCyac1FANB   \n",
      "300385  25uiPmTg16RbhZWAqwLBy5  3Xt3RrJMFv5SZkCfUE8C1J   \n",
      "\n",
      "                            artist_0      artist_1  \n",
      "0                            NGHTMRE       Lil Jon  \n",
      "1                          Sick Luke       MACHETE  \n",
      "2                            Mat.Joe  Hayden James  \n",
      "3                           Lp2loose    Headie One  \n",
      "4                    Marlon Roudette        Stadic  \n",
      "...                              ...           ...  \n",
      "300381                  Sons Of Zion   Sid Diamond  \n",
      "300382                       Filipek     clearmind  \n",
      "300383                         Lay-Z        Skepta  \n",
      "300384  Lil Jon & The East Side Boyz   Lil Scrappy  \n",
      "300385                    Charli XCX    Kim Petras  \n",
      "\n",
      "[300322 rows x 4 columns]\n"
     ]
    }
   ],
   "source": [
    "# Remove rows where 'artist_0' or 'artist_1' is null\n",
    "edges_cleaned = edges.dropna(subset=['artist_0', 'artist_1'])\n",
    "\n",
    "edges.dropna(subset=['artist_0', 'artist_1'], inplace=True)\n",
    "print(edges_cleaned)"
   ]
  },
  {
   "cell_type": "code",
   "execution_count": 9,
   "id": "e1a946d8-d778-4db4-948f-e3630cf8f19a",
   "metadata": {},
   "outputs": [
    {
     "data": {
      "text/plain": [
       "id_0        0\n",
       "id_1        0\n",
       "artist_0    0\n",
       "artist_1    0\n",
       "dtype: int64"
      ]
     },
     "execution_count": 9,
     "metadata": {},
     "output_type": "execute_result"
    }
   ],
   "source": [
    "edges.isna().sum()"
   ]
  },
  {
   "cell_type": "code",
   "execution_count": 10,
   "id": "287a9910-13fc-45a3-882d-3d9cd9e8741d",
   "metadata": {},
   "outputs": [],
   "source": [
    "df = edges"
   ]
  },
  {
   "cell_type": "code",
   "execution_count": 11,
   "id": "6d89e5d1-4a30-4d6c-9d6d-63d10c4e0e29",
   "metadata": {},
   "outputs": [
    {
     "data": {
      "text/plain": [
       "(300322, 4)"
      ]
     },
     "execution_count": 11,
     "metadata": {},
     "output_type": "execute_result"
    }
   ],
   "source": [
    "df.shape"
   ]
  },
  {
   "cell_type": "code",
   "execution_count": 12,
   "id": "1739bfc0-dff0-40b1-8742-6255e18071fe",
   "metadata": {},
   "outputs": [
    {
     "data": {
      "text/plain": [
       "id_0        0\n",
       "id_1        0\n",
       "artist_0    0\n",
       "artist_1    0\n",
       "dtype: int64"
      ]
     },
     "execution_count": 12,
     "metadata": {},
     "output_type": "execute_result"
    }
   ],
   "source": [
    "df.isnull().sum()"
   ]
  },
  {
   "cell_type": "code",
   "execution_count": 13,
   "id": "ed8e649c-060d-40bd-85b3-ee44d4d724ed",
   "metadata": {},
   "outputs": [
    {
     "data": {
      "text/plain": [
       "(300322, 4)"
      ]
     },
     "execution_count": 13,
     "metadata": {},
     "output_type": "execute_result"
    }
   ],
   "source": [
    "df.shape"
   ]
  },
  {
   "cell_type": "code",
   "execution_count": 14,
   "id": "f1159274-4bc0-4b11-968f-e6a80bd5f573",
   "metadata": {},
   "outputs": [
    {
     "name": "stdout",
     "output_type": "stream",
     "text": [
      "2677\n",
      "artist_0           artist_1            \n",
      "11:11              Eric Bellinger          2\n",
      "11:11 Music Group  sped up viral audios    2\n",
      "18 Kilates         Dakos                   2\n",
      "1Kilo              DaPaz                   2\n",
      "20TOKENS           Neverlove               2\n",
      "                                          ..\n",
      "ליבי פנקר          הכוכב הבא               2\n",
      "دنيا سمير غانم     D1M1K                   2\n",
      "ペチュニアロックス          ORANGE RANGE            2\n",
      "張三李四               林柏昇KID                  2\n",
      "董事長樂團              九天民俗技藝團                 2\n",
      "Length: 2677, dtype: int64\n"
     ]
    }
   ],
   "source": [
    "# Grouping the pairs if they are apperaing more then once.\n",
    "duplicate_counts = df.groupby(['artist_0', 'artist_1']).size()\n",
    "\n",
    "# filtering pairs that appear more than once\n",
    "duplicates = duplicate_counts[duplicate_counts > 1]\n",
    "print(duplicates.count())\n",
    "print(duplicates)"
   ]
  },
  {
   "cell_type": "code",
   "execution_count": 15,
   "id": "3962c437-fa0e-4ef0-8263-700e3c09808a",
   "metadata": {},
   "outputs": [
    {
     "name": "stdout",
     "output_type": "stream",
     "text": [
      "                          id_0                    id_1         artist_0  \\\n",
      "58      1oNegA18QEB6werQmfux5Z  2DEOeaIzp8CWyw3Sh9CqrR          Leonora   \n",
      "156     2aVPTWc4WYc7b384eatevF  49PBqfBYezEMlKV2R4ziDP  Didine Canon 16   \n",
      "203     6ZUZCUk4GhMAG0jd7Jhfai  6bIsFWNkjQvSm5P4rqlxKn   ZENE THE ZILLA   \n",
      "237     1xDP6EYqtvlyA5rLcQ3uW9  329e4yvIujISKGKz1BZZbO          Messiah   \n",
      "269     02YbNHVvrDKVltsi1bSMzv  2o5jDhtHVPhrJdv3cEQ99Z           Allure   \n",
      "...                        ...                     ...              ...   \n",
      "300272  47z7ZrgFoBvVpCnElCE3Zh  4ec8qSL8tNFr1heJFmYfux      Yellow Claw   \n",
      "300308  1wAtSe79kItIb9nf5EhI2Q  6wsiYpfvcLMXlA1l3TTd7x             Niro   \n",
      "300309  2ZmerElhvxg8uVKCmlZ4ij  7qXMt4v0Fb7DzJrzzBDu1O             AWAY   \n",
      "300349  1F2erLLqRHbaFvEYHeVIHJ  3MZDiKqoR0CscyHXjWlj5T           Foyone   \n",
      "300367  1yIifIA91WgmfzBcjbQB8i  2JwyRtuXf2l6sTnSnGVIa1            Kurdo   \n",
      "\n",
      "          artist_1  \n",
      "58         Dooferz  \n",
      "156           Ouss  \n",
      "203      Don Mills  \n",
      "237        Farruko  \n",
      "269         Tiësto  \n",
      "...            ...  \n",
      "300272    Rochelle  \n",
      "300308        Koro  \n",
      "300309     Charity  \n",
      "300349        Kale  \n",
      "300367  Farid Bang  \n",
      "\n",
      "[5521 rows x 4 columns]\n"
     ]
    }
   ],
   "source": [
    "duplicates = df[df.duplicated(subset=['artist_0', 'artist_1'], keep=False)]\n",
    "\n",
    "# Display the duplicated rows\n",
    "print(duplicates)"
   ]
  },
  {
   "cell_type": "code",
   "execution_count": 16,
   "id": "2e5488c6-5198-4ed2-922d-033209ca3811",
   "metadata": {},
   "outputs": [],
   "source": [
    "df_unique = df.drop_duplicates(subset=['artist_0', 'artist_1'])\n",
    "# Dropping duplicates"
   ]
  },
  {
   "cell_type": "code",
   "execution_count": 17,
   "id": "49ccba11-d6b3-4d24-b993-874ebdec5951",
   "metadata": {},
   "outputs": [
    {
     "name": "stdout",
     "output_type": "stream",
     "text": [
      "Empty DataFrame\n",
      "Columns: [id_0, id_1, artist_0, artist_1]\n",
      "Index: []\n"
     ]
    }
   ],
   "source": [
    "print(df_unique[df_unique.duplicated(subset=['artist_0', 'artist_1'], keep=False)])\n",
    "\n",
    "# All duplicates are removed."
   ]
  },
  {
   "cell_type": "code",
   "execution_count": 20,
   "id": "19878615-50c0-41b5-8348-569b4ad799fd",
   "metadata": {},
   "outputs": [
    {
     "name": "stdout",
     "output_type": "stream",
     "text": [
      "                          id_0                    id_1  \\\n",
      "0       76M2Ekj8bG8W7X2nbx2CpF  7sfl4Xt5KmfyDs2T3SVSMK   \n",
      "1       0hk4xVujcyOr6USD95wcWb  7Do8se3ZoaVqUt3woqqSrD   \n",
      "2       38jpuy3yt3QIxQ8Fn1HTeJ  4csQIMQm6vI2A2SCVDuM2z   \n",
      "3       6PvcxssrQ0QaJVaBWHD07l  6UCQYrcJ6wab6gnQ89OJFh   \n",
      "4       2R1QrQqWuw3IjoP5dXRFjt  4mk1ScvOUkuQzzCZpT6bc0   \n",
      "...                        ...                     ...   \n",
      "300381  0PK0Dx3s9et0Uf4XbdFpiW  6SmpksRq3jxeDZ7roKDb6F   \n",
      "300382  5hqRsNHDZH1jHzI9LgxFRZ  7KYseTkErcYMRvcIqacxUq   \n",
      "300383  0wjb0t7aYMuIwyuXnPOilh  2p1fiYHYiXz9qi0JJyxBzN   \n",
      "300384  3ciRvbBIVz9fBoPbtSYq4x  5einkgXXrjhfYCyac1FANB   \n",
      "300385  25uiPmTg16RbhZWAqwLBy5  3Xt3RrJMFv5SZkCfUE8C1J   \n",
      "\n",
      "                            artist_0      artist_1  \n",
      "0                            NGHTMRE       Lil Jon  \n",
      "1                          Sick Luke       MACHETE  \n",
      "2                            Mat.Joe  Hayden James  \n",
      "3                           Lp2loose    Headie One  \n",
      "4                    Marlon Roudette        Stadic  \n",
      "...                              ...           ...  \n",
      "300381                  Sons Of Zion   Sid Diamond  \n",
      "300382                       Filipek     clearmind  \n",
      "300383                         Lay-Z        Skepta  \n",
      "300384  Lil Jon & The East Side Boyz   Lil Scrappy  \n",
      "300385                    Charli XCX    Kim Petras  \n",
      "\n",
      "[266046 rows x 4 columns]\n"
     ]
    }
   ],
   "source": [
    "\n",
    "from concurrent.futures import ProcessPoolExecutor\n",
    "from langdetect import detect, DetectorFactory\n",
    "\n",
    "# Ensure consistent results from langdetect\n",
    "DetectorFactory.seed = 0\n",
    "\n",
    "def is_english(text):\n",
    "    try:\n",
    "        if all(ord(char) < 128 for char in text):\n",
    "            return True \n",
    "        return detect(text) == 'en'\n",
    "    except:\n",
    "        return False\n",
    "\n",
    "# Define the function that filters out non-English artist names\n",
    "def filter_english(df):\n",
    "    with ProcessPoolExecutor() as executor:\n",
    "        artist0_english = list(executor.map(is_english, df['artist_0']))\n",
    "        artist1_english = list(executor.map(is_english, df['artist_1']))\n",
    "    # Create a boolean mask where both artist names are detected to be English\n",
    "    mask = [a0 and a1 for a0, a1 in zip(artist0_english, artist1_english)]\n",
    "    return df[mask]\n",
    "\n",
    "\n",
    "df_english = filter_english(df_unique)\n",
    "\n",
    "print(df_english)"
   ]
  },
  {
   "cell_type": "code",
   "execution_count": 21,
   "id": "8f6cf6d7-12f9-4c75-bee6-2f007016457f",
   "metadata": {},
   "outputs": [
    {
     "data": {
      "text/plain": [
       "(266046, 4)"
      ]
     },
     "execution_count": 21,
     "metadata": {},
     "output_type": "execute_result"
    }
   ],
   "source": [
    "df_english.to_csv('edges_cleaned.csv', index=None)\n",
    "df_english.shape"
   ]
  },
  {
   "cell_type": "code",
   "execution_count": 22,
   "id": "f76f243d-4966-4eec-abf3-7ab4cfa5f9d7",
   "metadata": {},
   "outputs": [],
   "source": [
    "df_eng_art= pd.read_csv('edges_cleaned.csv')"
   ]
  },
  {
   "cell_type": "code",
   "execution_count": 23,
   "id": "0113b2c1-cefc-4736-a5fa-8b18a44adacf",
   "metadata": {},
   "outputs": [
    {
     "data": {
      "text/html": [
       "<div>\n",
       "<style scoped>\n",
       "    .dataframe tbody tr th:only-of-type {\n",
       "        vertical-align: middle;\n",
       "    }\n",
       "\n",
       "    .dataframe tbody tr th {\n",
       "        vertical-align: top;\n",
       "    }\n",
       "\n",
       "    .dataframe thead th {\n",
       "        text-align: right;\n",
       "    }\n",
       "</style>\n",
       "<table border=\"1\" class=\"dataframe\">\n",
       "  <thead>\n",
       "    <tr style=\"text-align: right;\">\n",
       "      <th></th>\n",
       "      <th>id_0</th>\n",
       "      <th>id_1</th>\n",
       "      <th>artist_0</th>\n",
       "      <th>artist_1</th>\n",
       "    </tr>\n",
       "  </thead>\n",
       "  <tbody>\n",
       "    <tr>\n",
       "      <th>0</th>\n",
       "      <td>76M2Ekj8bG8W7X2nbx2CpF</td>\n",
       "      <td>7sfl4Xt5KmfyDs2T3SVSMK</td>\n",
       "      <td>NGHTMRE</td>\n",
       "      <td>Lil Jon</td>\n",
       "    </tr>\n",
       "    <tr>\n",
       "      <th>1</th>\n",
       "      <td>0hk4xVujcyOr6USD95wcWb</td>\n",
       "      <td>7Do8se3ZoaVqUt3woqqSrD</td>\n",
       "      <td>Sick Luke</td>\n",
       "      <td>MACHETE</td>\n",
       "    </tr>\n",
       "    <tr>\n",
       "      <th>2</th>\n",
       "      <td>38jpuy3yt3QIxQ8Fn1HTeJ</td>\n",
       "      <td>4csQIMQm6vI2A2SCVDuM2z</td>\n",
       "      <td>Mat.Joe</td>\n",
       "      <td>Hayden James</td>\n",
       "    </tr>\n",
       "    <tr>\n",
       "      <th>3</th>\n",
       "      <td>6PvcxssrQ0QaJVaBWHD07l</td>\n",
       "      <td>6UCQYrcJ6wab6gnQ89OJFh</td>\n",
       "      <td>Lp2loose</td>\n",
       "      <td>Headie One</td>\n",
       "    </tr>\n",
       "    <tr>\n",
       "      <th>4</th>\n",
       "      <td>2R1QrQqWuw3IjoP5dXRFjt</td>\n",
       "      <td>4mk1ScvOUkuQzzCZpT6bc0</td>\n",
       "      <td>Marlon Roudette</td>\n",
       "      <td>Stadic</td>\n",
       "    </tr>\n",
       "  </tbody>\n",
       "</table>\n",
       "</div>"
      ],
      "text/plain": [
       "                     id_0                    id_1         artist_0  \\\n",
       "0  76M2Ekj8bG8W7X2nbx2CpF  7sfl4Xt5KmfyDs2T3SVSMK          NGHTMRE   \n",
       "1  0hk4xVujcyOr6USD95wcWb  7Do8se3ZoaVqUt3woqqSrD        Sick Luke   \n",
       "2  38jpuy3yt3QIxQ8Fn1HTeJ  4csQIMQm6vI2A2SCVDuM2z          Mat.Joe   \n",
       "3  6PvcxssrQ0QaJVaBWHD07l  6UCQYrcJ6wab6gnQ89OJFh         Lp2loose   \n",
       "4  2R1QrQqWuw3IjoP5dXRFjt  4mk1ScvOUkuQzzCZpT6bc0  Marlon Roudette   \n",
       "\n",
       "       artist_1  \n",
       "0       Lil Jon  \n",
       "1       MACHETE  \n",
       "2  Hayden James  \n",
       "3    Headie One  \n",
       "4        Stadic  "
      ]
     },
     "execution_count": 23,
     "metadata": {},
     "output_type": "execute_result"
    }
   ],
   "source": [
    "df_eng_art.head()"
   ]
  },
  {
   "cell_type": "code",
   "execution_count": 24,
   "id": "541a0139-fbc0-4a2a-85cf-8eade1dd2bfc",
   "metadata": {},
   "outputs": [
    {
     "name": "stderr",
     "output_type": "stream",
     "text": [
      "/tmp/ipykernel_11276/1797047786.py:12: FutureWarning: \n",
      "\n",
      "Passing `palette` without assigning `hue` is deprecated and will be removed in v0.14.0. Assign the `y` variable to `hue` and set `legend=False` for the same effect.\n",
      "\n",
      "  sns.barplot(x=top_10_artists.values, y=top_10_artists.index, palette=\"viridis\")\n"
     ]
    },
    {
     "data": {
      "image/png": "[encoded data removed]",
      "text/plain": [
       "<Figure size 1000x600 with 1 Axes>"
      ]
     },
     "metadata": {},
     "output_type": "display_data"
    }
   ],
   "source": [
    "import matplotlib.pyplot as plt\n",
    "import seaborn as sns\n",
    "\n",
    "# Count the number of collaborations for each artist in artist_0\n",
    "collaboration_counts = df_eng_art['artist_0'].value_counts()\n",
    "\n",
    "# Get the top 10 artists with the most collaborations\n",
    "top_10_artists = collaboration_counts.head(10)\n",
    "\n",
    "# Plotting the data\n",
    "plt.figure(figsize=(10, 6))\n",
    "sns.barplot(x=top_10_artists.values, y=top_10_artists.index, palette=\"viridis\")\n",
    "plt.title('Top 10 Artists with Most Collaborations')\n",
    "plt.xlabel('Number of Collaborations')\n",
    "plt.ylabel('Artist')\n",
    "plt.show()"
   ]
  },
  {
   "cell_type": "code",
   "execution_count": 25,
   "id": "b38a7fd6-14aa-4b6b-b410-d11ec0dcf216",
   "metadata": {},
   "outputs": [
    {
     "name": "stdout",
     "output_type": "stream",
     "text": [
      "Number of artists from 'artist_0' attribute who collaborated with more than one unique 'artist_1' attribute records: 25541\n"
     ]
    }
   ],
   "source": [
    "collaboration_counts = df_eng_art.groupby('artist_0')['artist_1'].nunique()\n",
    "\n",
    "artists_with_multiple_collaborations = collaboration_counts[collaboration_counts > 1]\n",
    "\n",
    "# Counting  artists with multiple collaborations\n",
    "count_of_artists = artists_with_multiple_collaborations.count()\n",
    "\n",
    "print(f\"Number of artists from 'artist_0' attribute who collaborated with more than one unique 'artist_1' attribute records: {count_of_artists}\")"
   ]
  }
 ],
 "metadata": {
  "kernelspec": {
   "display_name": "Python 3 (ipykernel)",
   "language": "python",
   "name": "python3"
  },
  "language_info": {
   "codemirror_mode": {
    "name": "ipython",
    "version": 3
   },
   "file_extension": ".py",
   "mimetype": "text/x-python",
   "name": "python",
   "nbconvert_exporter": "python",
   "pygments_lexer": "ipython3",
   "version": "3.12.3"
  }
 },
 "nbformat": 4,
 "nbformat_minor": 5
}
